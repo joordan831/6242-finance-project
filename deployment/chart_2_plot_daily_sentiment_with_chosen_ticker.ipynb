{
 "cells": [
  {
   "cell_type": "markdown",
   "metadata": {
    "pycharm": {
     "name": "#%% md\n"
    }
   },
   "source": [
    "# Get All Data"
   ]
  },
  {
   "cell_type": "code",
   "execution_count": 1,
   "metadata": {
    "pycharm": {
     "name": "#%%\n"
    }
   },
   "outputs": [],
   "source": [
    "local_dir_nasdaq = r'input_data/nasdaq'\n",
    "local_dir_data_tables = 'input_data/saved_data_tables'"
   ]
  },
  {
   "cell_type": "code",
   "execution_count": 2,
   "metadata": {
    "pycharm": {
     "name": "#%%\n"
    }
   },
   "outputs": [],
   "source": [
    "import glob\n",
    "from datetime import timedelta, datetime\n",
    "\n",
    "import numpy as np\n",
    "import pandas as pd\n",
    "from bokeh.io import show, output_notebook, push_notebook\n",
    "from bokeh.models import Range1d, LinearAxis\n",
    "from bokeh.plotting import figure\n",
    "from ipywidgets import interact\n",
    "\n",
    "flatten_data = pd.read_csv(f'{local_dir_data_tables}/flatten_data.csv', index_col=None, header=0)\n",
    "\n",
    "flatten_data['created_utc'] = pd.to_datetime(flatten_data['created_utc'], format='%Y-%m-%d %H:%M:%S')\n",
    "flatten_data['update_dt'] = pd.to_datetime(flatten_data['update_dt'], format='%Y-%m-%d %H:%M:%S')"
   ]
  },
  {
   "cell_type": "markdown",
   "metadata": {
    "pycharm": {
     "name": "#%% md\n"
    }
   },
   "source": [
    "## Group Data by Ticker and Date"
   ]
  },
  {
   "cell_type": "code",
   "execution_count": 3,
   "metadata": {
    "pycharm": {
     "name": "#%%\n"
    }
   },
   "outputs": [],
   "source": [
    "grouped_by_ticker_and_date = flatten_data.groupby([flatten_data.created_utc.dt.strftime('%d %b %Y'), 'ticker'],\n",
    "                                                  as_index=False).agg(\n",
    "    {'positive': 'mean', 'neutral': 'mean', 'negative': 'mean', 'compound': 'mean', 'id': 'size', 'ticker': 'first', 'created_utc': 'first'})\n",
    "grouped_by_ticker_and_date['created_utc'] = grouped_by_ticker_and_date['created_utc'].dt.strftime('%Y-%m-%d')\n",
    "\n",
    "path_of_nasdaq_csv_files = local_dir_nasdaq\n",
    "all_files = glob.glob(path_of_nasdaq_csv_files + \"/*.csv\")\n",
    "\n",
    "frames = []\n",
    "\n",
    "for filename in all_files:\n",
    "    df = pd.read_csv(filename, index_col=None, header=0)\n",
    "    frames.append(df)\n",
    "\n",
    "all_nasdaq_files_df = pd.concat(frames, axis=0, ignore_index=True)\n",
    "\n",
    "grouped_by_ticker_and_date = grouped_by_ticker_and_date.rename(\n",
    "    columns={'positive': 'average_positive', 'negative': 'average_negative', 'neutral': 'average_neutral', 'compound': 'average_compound', 'id': 'number_of_text_submissions',\n",
    "             'created_utc': 'date', 'lastsale': 'end_of_day_stock_price'})\n",
    "\n",
    "grouped_by_ticker_and_date = pd.merge(grouped_by_ticker_and_date,\n",
    "                                      all_nasdaq_files_df[['symbol', 'update_dt', 'lastsale']], how='inner',\n",
    "                                      left_on=['ticker', 'date'], right_on=['symbol', 'update_dt']).drop(\n",
    "    columns=['update_dt', 'symbol'])\n",
    "\n",
    "grouped_by_ticker_and_date = grouped_by_ticker_and_date.rename(\n",
    "    columns={'lastsale': 'end_of_day_stock_price'})\n",
    "\n",
    "grouped_by_ticker_and_date['end_of_day_stock_price'] = grouped_by_ticker_and_date['end_of_day_stock_price'].str.replace(\n",
    "    '$', '', regex=True).astype(float)\n",
    "\n",
    "grouped_by_ticker_and_date['date'] = pd.to_datetime(grouped_by_ticker_and_date['date'])\n",
    "\n",
    "grouped_by_ticker_and_date = grouped_by_ticker_and_date.loc[\n",
    "                             grouped_by_ticker_and_date.duplicated(subset='ticker', keep=False), :]\n",
    "grouped_by_ticker_and_date.sort_values(by='date', inplace=True)\n",
    "all_unique_tickers_with_at_least_one_submissions = grouped_by_ticker_and_date['ticker'].explode().unique()"
   ]
  },
  {
   "cell_type": "markdown",
   "metadata": {},
   "source": []
  },
  {
   "cell_type": "markdown",
   "metadata": {
    "pycharm": {
     "name": "#%% md\n"
    }
   },
   "source": [
    "## Add Function to get Ticker Data"
   ]
  },
  {
   "cell_type": "code",
   "execution_count": 4,
   "metadata": {
    "pycharm": {
     "name": "#%%\n"
    }
   },
   "outputs": [],
   "source": [
    "def get_ticker_data(ticker):\n",
    "    return grouped_by_ticker_and_date.loc[grouped_by_ticker_and_date['ticker'] == ticker]['date'].tolist(), \\\n",
    "           grouped_by_ticker_and_date.loc[grouped_by_ticker_and_date['ticker'] == ticker]['average_positive'].tolist(), \\\n",
    "           grouped_by_ticker_and_date.loc[grouped_by_ticker_and_date['ticker'] == ticker]['average_negative'].tolist(), \\\n",
    "           grouped_by_ticker_and_date.loc[grouped_by_ticker_and_date['ticker'] == ticker]['average_neutral'].tolist(), \\\n",
    "           grouped_by_ticker_and_date.loc[grouped_by_ticker_and_date['ticker'] == ticker]['average_compound'].tolist(), \\\n",
    "           grouped_by_ticker_and_date.loc[grouped_by_ticker_and_date['ticker'] == ticker][\n",
    "               'end_of_day_stock_price'].tolist(), \\\n",
    "           grouped_by_ticker_and_date.loc[grouped_by_ticker_and_date['ticker'] == ticker][\n",
    "               ['average_positive', 'average_negative', 'average_neutral', 'average_compound']].min().min(), \\\n",
    "           grouped_by_ticker_and_date.loc[grouped_by_ticker_and_date['ticker'] == ticker][\n",
    "               ['average_positive', 'average_negative', 'average_neutral', 'average_compound']].max().max(), \\\n",
    "           grouped_by_ticker_and_date.loc[grouped_by_ticker_and_date['ticker'] == ticker][\n",
    "               'end_of_day_stock_price'].min(), \\\n",
    "           grouped_by_ticker_and_date.loc[grouped_by_ticker_and_date['ticker'] == ticker][\n",
    "               'end_of_day_stock_price'].max()"
   ]
  },
  {
   "cell_type": "markdown",
   "metadata": {
    "pycharm": {
     "name": "#%% md\n"
    }
   },
   "source": [
    "## Initialize Bokeh Chart"
   ]
  },
  {
   "cell_type": "code",
   "execution_count": 5,
   "metadata": {
    "pycharm": {
     "name": "#%%\n"
    }
   },
   "outputs": [],
   "source": [
    "p = figure(x_axis_type='datetime', x_axis_label='Date', y_axis_label='Price', plot_width=900)\n",
    "\n",
    "date_axis, average_positive, average_negative, average_neutral, average_compound, end_of_day_prices, min_sentiment, max_sentiment, min_price, max_price = get_ticker_data(\n",
    "    'TSLA')\n",
    "\n",
    "sdate = min(date_axis)\n",
    "edate = max(date_axis)\n",
    "all_dates_for_stock_prices = pd.date_range(sdate,edate,freq='d').strftime('%Y-%m-%d').tolist()\n",
    "if '2021-11-23' in all_dates_for_stock_prices:\n",
    "    all_dates_for_stock_prices.remove('2021-11-23')\n",
    "list_of_stock_prices = []\n",
    "for date in all_dates_for_stock_prices:\n",
    "    list_of_stock_prices.append(all_nasdaq_files_df.loc[(all_nasdaq_files_df['symbol'] == 'TSLA') & (all_nasdaq_files_df['update_dt'] == date)]['lastsale'].str.replace('$', '', regex=True).astype(float).iloc[0])\n",
    "\n",
    "timestamps_for_stocks = []\n",
    "for x in all_dates_for_stock_prices:\n",
    "    timestamps_for_stocks.append(pd.Timestamp(datetime.strptime(x, '%Y-%m-%d')))\n",
    "\n",
    "average_positive_line = p.line(date_axis,\n",
    "                               average_positive,\n",
    "                               legend_label='Daily\\'s Average Positive Sentiment Score', line_width=2, y_range_name='sentiment',\n",
    "                               color='green')\n",
    "average_positive_scatter = p.circle(date_axis,\n",
    "                               average_positive,\n",
    "                               legend_label='Daily\\'s Average Positive Sentiment Score', line_width=2, y_range_name='sentiment',\n",
    "                               color='green')\n",
    "average_negative_line = p.line(date_axis,\n",
    "                               average_negative,\n",
    "                               legend_label='Daily\\'s Average Negative Sentiment Score', line_width=2, y_range_name='sentiment',\n",
    "                               color='red')\n",
    "average_negative_scatter = p.circle(date_axis,\n",
    "                               average_negative,\n",
    "                               legend_label='Daily\\'s Average Negative Sentiment Score', line_width=2, y_range_name='sentiment',\n",
    "                               color='red')\n",
    "average_neutral_line = p.line(date_axis,\n",
    "                               average_neutral,\n",
    "                               legend_label='Daily\\'s Average Neutral Sentiment Score', line_width=2, y_range_name='sentiment',\n",
    "                               color='gray')\n",
    "average_neutral_scatter = p.circle(date_axis,\n",
    "                               average_neutral,\n",
    "                               legend_label='Daily\\'s Average Neutral Sentiment Score', line_width=2, y_range_name='sentiment',\n",
    "                               color='gray')\n",
    "average_compound_line = p.line(date_axis,\n",
    "                               average_compound,\n",
    "                               legend_label='Daily\\'s Average Compound Sentiment Score', line_width=2, y_range_name='sentiment',\n",
    "                               color='yellow')\n",
    "average_compound_scatter = p.circle(date_axis,\n",
    "                               average_compound,\n",
    "                               legend_label='Daily\\'s Average Compound Sentiment Score', line_width=2, y_range_name='sentiment',\n",
    "                               color='yellow')\n",
    "price_line = p.line(timestamps_for_stocks,\n",
    "                    list_of_stock_prices,\n",
    "                    legend_label='Stock Price', line_width=2, color='blue')\n",
    "price_scatter = p.circle(timestamps_for_stocks,\n",
    "                    list_of_stock_prices,\n",
    "                    legend_label='Stock Price', line_width=2, color='blue')\n",
    "\n",
    "p.extra_y_ranges['sentiment'] = Range1d(\n",
    "    start=min_sentiment,\n",
    "    end=max_sentiment)\n",
    "\n",
    "p.legend.location = \"top_left\"\n",
    "p.legend.click_policy = \"hide\"\n",
    "\n",
    "p.add_layout(LinearAxis(y_range_name=\"sentiment\", axis_label='Sentiment Percent'), 'right')"
   ]
  },
  {
   "cell_type": "markdown",
   "metadata": {
    "pycharm": {
     "name": "#%% md\n"
    }
   },
   "source": [
    "## Add Update Function for Chart Based on Selection and Enable Interaction"
   ]
  },
  {
   "cell_type": "code",
   "execution_count": 6,
   "metadata": {
    "pycharm": {
     "name": "#%%\n"
    }
   },
   "outputs": [],
   "source": [
    "def update(ticker='TSLA'):\n",
    "    date_axis, average_positive, average_negative, average_neutral, average_compound, end_of_day_prices, min_sentiment, max_sentiment, min_price, max_price = get_ticker_data(\n",
    "        ticker)\n",
    "    sdate = min(date_axis)\n",
    "    edate = max(date_axis)\n",
    "    all_dates_for_stock_prices = pd.date_range(sdate,edate,freq='d').strftime('%Y-%m-%d').tolist()\n",
    "    if '2021-11-23' in all_dates_for_stock_prices:\n",
    "        all_dates_for_stock_prices.remove('2021-11-23')\n",
    "    list_of_stock_prices = []\n",
    "    for date in all_dates_for_stock_prices:\n",
    "        list_of_stock_prices.append(all_nasdaq_files_df.loc[(all_nasdaq_files_df['symbol'] == ticker) & (all_nasdaq_files_df['update_dt'] == date)]['lastsale'].str.replace('$', '', regex=True).astype(float).iloc[0])\n",
    "\n",
    "    timestamps_for_stocks = []\n",
    "    for x in all_dates_for_stock_prices:\n",
    "        timestamps_for_stocks.append(pd.Timestamp(datetime.strptime(x, '%Y-%m-%d')))\n",
    "\n",
    "    p.extra_y_ranges['sentiment'].start = min_sentiment\n",
    "    p.extra_y_ranges['sentiment'].end = max_sentiment\n",
    "    average_positive_line.data_source.data = {'x': list(np.zeros(len(average_positive))), 'y': list(np.ones(len(average_positive)))}\n",
    "    average_positive_line.data_source.data['x'] = date_axis\n",
    "    average_positive_line.data_source.data['y'] = average_positive\n",
    "    average_positive_scatter.data_source.data = {'x': list(np.zeros(len(average_positive))), 'y': list(np.ones(len(average_positive)))}\n",
    "    average_positive_scatter.data_source.data['x'] = date_axis\n",
    "    average_positive_scatter.data_source.data['y'] = average_positive\n",
    "    average_negative_line.data_source.data = {'x': list(np.zeros(len(average_negative))), 'y': list(np.ones(len(average_negative)))}\n",
    "    average_negative_line.data_source.data['y'] = average_negative\n",
    "    average_negative_line.data_source.data['x'] = date_axis\n",
    "    average_negative_scatter.data_source.data = {'x': list(np.zeros(len(average_negative))), 'y': list(np.ones(len(average_negative)))}\n",
    "    average_negative_scatter.data_source.data['y'] = average_negative\n",
    "    average_negative_scatter.data_source.data['x'] = date_axis\n",
    "    average_neutral_line.data_source.data = {'x': list(np.zeros(len(average_neutral))), 'y': list(np.ones(len(average_neutral)))}\n",
    "    average_neutral_line.data_source.data['y'] = average_neutral\n",
    "    average_neutral_line.data_source.data['x'] = date_axis\n",
    "    average_neutral_scatter.data_source.data = {'x': list(np.zeros(len(average_neutral))), 'y': list(np.ones(len(average_neutral)))}\n",
    "    average_neutral_scatter.data_source.data['y'] = average_neutral\n",
    "    average_neutral_scatter.data_source.data['x'] = date_axis\n",
    "    average_compound_line.data_source.data = {'x': list(np.zeros(len(average_neutral))), 'y': list(np.ones(len(average_neutral)))}\n",
    "    average_compound_line.data_source.data['y'] = average_compound\n",
    "    average_compound_line.data_source.data['x'] = date_axis\n",
    "    average_compound_scatter.data_source.data = {'x': list(np.zeros(len(average_compound))), 'y': list(np.ones(len(average_compound)))}\n",
    "    average_compound_scatter.data_source.data['y'] = average_compound\n",
    "    average_compound_scatter.data_source.data['x'] = date_axis\n",
    "    price_line.data_source.data = {'x': list(np.zeros(len(list_of_stock_prices))), 'y': list(np.ones(len(list_of_stock_prices)))}\n",
    "    price_line.data_source.data['y'] = list_of_stock_prices\n",
    "    price_line.data_source.data['x'] = timestamps_for_stocks\n",
    "    price_scatter.data_source.data = {'x': list(np.zeros(len(list_of_stock_prices))), 'y': list(np.ones(len(list_of_stock_prices)))}\n",
    "    price_scatter.data_source.data['y'] = list_of_stock_prices\n",
    "    price_scatter.data_source.data['x'] = timestamps_for_stocks\n",
    "    push_notebook()"
   ]
  },
  {
   "cell_type": "markdown",
   "metadata": {
    "pycharm": {
     "name": "#%% md\n"
    }
   },
   "source": [
    "## Show Chart for Stock Price, Average Daily Positive Sentiment Score, Average Daily Neutral Sentiment Score, and Average Daily Negative Sentiment Score for all Text Submissions\n",
    "\n",
    "## Can Move Chart and Click on Legend to Hide/Show Line(s)"
   ]
  },
  {
   "cell_type": "code",
   "execution_count": 7,
   "metadata": {
    "pycharm": {
     "name": "#%%\n"
    }
   },
   "outputs": [
    {
     "data": {
      "text/html": [
       "\n",
       "    <div class=\"bk-root\">\n",
       "        <a href=\"https://bokeh.org\" target=\"_blank\" class=\"bk-logo bk-logo-small bk-logo-notebook\"></a>\n",
       "        <span id=\"1421\">Loading BokehJS ...</span>\n",
       "    </div>"
      ]
     },
     "metadata": {},
     "output_type": "display_data"
    },
    {
     "data": {
      "application/javascript": [
       "\n",
       "(function(root) {\n",
       "  function now() {\n",
       "    return new Date();\n",
       "  }\n",
       "\n",
       "  const force = true;\n",
       "\n",
       "  if (typeof root._bokeh_onload_callbacks === \"undefined\" || force === true) {\n",
       "    root._bokeh_onload_callbacks = [];\n",
       "    root._bokeh_is_loading = undefined;\n",
       "  }\n",
       "\n",
       "  const JS_MIME_TYPE = 'application/javascript';\n",
       "  const HTML_MIME_TYPE = 'text/html';\n",
       "  const EXEC_MIME_TYPE = 'application/vnd.bokehjs_exec.v0+json';\n",
       "  const CLASS_NAME = 'output_bokeh rendered_html';\n",
       "\n",
       "  /**\n",
       "   * Render data to the DOM node\n",
       "   */\n",
       "  function render(props, node) {\n",
       "    const script = document.createElement(\"script\");\n",
       "    node.appendChild(script);\n",
       "  }\n",
       "\n",
       "  /**\n",
       "   * Handle when an output is cleared or removed\n",
       "   */\n",
       "  function handleClearOutput(event, handle) {\n",
       "    const cell = handle.cell;\n",
       "\n",
       "    const id = cell.output_area._bokeh_element_id;\n",
       "    const server_id = cell.output_area._bokeh_server_id;\n",
       "    // Clean up Bokeh references\n",
       "    if (id != null && id in Bokeh.index) {\n",
       "      Bokeh.index[id].model.document.clear();\n",
       "      delete Bokeh.index[id];\n",
       "    }\n",
       "\n",
       "    if (server_id !== undefined) {\n",
       "      // Clean up Bokeh references\n",
       "      const cmd_clean = \"from bokeh.io.state import curstate; print(curstate().uuid_to_server['\" + server_id + \"'].get_sessions()[0].document.roots[0]._id)\";\n",
       "      cell.notebook.kernel.execute(cmd_clean, {\n",
       "        iopub: {\n",
       "          output: function(msg) {\n",
       "            const id = msg.content.text.trim();\n",
       "            if (id in Bokeh.index) {\n",
       "              Bokeh.index[id].model.document.clear();\n",
       "              delete Bokeh.index[id];\n",
       "            }\n",
       "          }\n",
       "        }\n",
       "      });\n",
       "      // Destroy server and session\n",
       "      const cmd_destroy = \"import bokeh.io.notebook as ion; ion.destroy_server('\" + server_id + \"')\";\n",
       "      cell.notebook.kernel.execute(cmd_destroy);\n",
       "    }\n",
       "  }\n",
       "\n",
       "  /**\n",
       "   * Handle when a new output is added\n",
       "   */\n",
       "  function handleAddOutput(event, handle) {\n",
       "    const output_area = handle.output_area;\n",
       "    const output = handle.output;\n",
       "\n",
       "    // limit handleAddOutput to display_data with EXEC_MIME_TYPE content only\n",
       "    if ((output.output_type != \"display_data\") || (!Object.prototype.hasOwnProperty.call(output.data, EXEC_MIME_TYPE))) {\n",
       "      return\n",
       "    }\n",
       "\n",
       "    const toinsert = output_area.element.find(\".\" + CLASS_NAME.split(' ')[0]);\n",
       "\n",
       "    if (output.metadata[EXEC_MIME_TYPE][\"id\"] !== undefined) {\n",
       "      toinsert[toinsert.length - 1].firstChild.textContent = output.data[JS_MIME_TYPE];\n",
       "      // store reference to embed id on output_area\n",
       "      output_area._bokeh_element_id = output.metadata[EXEC_MIME_TYPE][\"id\"];\n",
       "    }\n",
       "    if (output.metadata[EXEC_MIME_TYPE][\"server_id\"] !== undefined) {\n",
       "      const bk_div = document.createElement(\"div\");\n",
       "      bk_div.innerHTML = output.data[HTML_MIME_TYPE];\n",
       "      const script_attrs = bk_div.children[0].attributes;\n",
       "      for (let i = 0; i < script_attrs.length; i++) {\n",
       "        toinsert[toinsert.length - 1].firstChild.setAttribute(script_attrs[i].name, script_attrs[i].value);\n",
       "        toinsert[toinsert.length - 1].firstChild.textContent = bk_div.children[0].textContent\n",
       "      }\n",
       "      // store reference to server id on output_area\n",
       "      output_area._bokeh_server_id = output.metadata[EXEC_MIME_TYPE][\"server_id\"];\n",
       "    }\n",
       "  }\n",
       "\n",
       "  function register_renderer(events, OutputArea) {\n",
       "\n",
       "    function append_mime(data, metadata, element) {\n",
       "      // create a DOM node to render to\n",
       "      const toinsert = this.create_output_subarea(\n",
       "        metadata,\n",
       "        CLASS_NAME,\n",
       "        EXEC_MIME_TYPE\n",
       "      );\n",
       "      this.keyboard_manager.register_events(toinsert);\n",
       "      // Render to node\n",
       "      const props = {data: data, metadata: metadata[EXEC_MIME_TYPE]};\n",
       "      render(props, toinsert[toinsert.length - 1]);\n",
       "      element.append(toinsert);\n",
       "      return toinsert\n",
       "    }\n",
       "\n",
       "    /* Handle when an output is cleared or removed */\n",
       "    events.on('clear_output.CodeCell', handleClearOutput);\n",
       "    events.on('delete.Cell', handleClearOutput);\n",
       "\n",
       "    /* Handle when a new output is added */\n",
       "    events.on('output_added.OutputArea', handleAddOutput);\n",
       "\n",
       "    /**\n",
       "     * Register the mime type and append_mime function with output_area\n",
       "     */\n",
       "    OutputArea.prototype.register_mime_type(EXEC_MIME_TYPE, append_mime, {\n",
       "      /* Is output safe? */\n",
       "      safe: true,\n",
       "      /* Index of renderer in `output_area.display_order` */\n",
       "      index: 0\n",
       "    });\n",
       "  }\n",
       "\n",
       "  // register the mime type if in Jupyter Notebook environment and previously unregistered\n",
       "  if (root.Jupyter !== undefined) {\n",
       "    const events = require('base/js/events');\n",
       "    const OutputArea = require('notebook/js/outputarea').OutputArea;\n",
       "\n",
       "    if (OutputArea.prototype.mime_types().indexOf(EXEC_MIME_TYPE) == -1) {\n",
       "      register_renderer(events, OutputArea);\n",
       "    }\n",
       "  }\n",
       "\n",
       "  \n",
       "  if (typeof (root._bokeh_timeout) === \"undefined\" || force === true) {\n",
       "    root._bokeh_timeout = Date.now() + 5000;\n",
       "    root._bokeh_failed_load = false;\n",
       "  }\n",
       "\n",
       "  const NB_LOAD_WARNING = {'data': {'text/html':\n",
       "     \"<div style='background-color: #fdd'>\\n\"+\n",
       "     \"<p>\\n\"+\n",
       "     \"BokehJS does not appear to have successfully loaded. If loading BokehJS from CDN, this \\n\"+\n",
       "     \"may be due to a slow or bad network connection. Possible fixes:\\n\"+\n",
       "     \"</p>\\n\"+\n",
       "     \"<ul>\\n\"+\n",
       "     \"<li>re-rerun `output_notebook()` to attempt to load from CDN again, or</li>\\n\"+\n",
       "     \"<li>use INLINE resources instead, as so:</li>\\n\"+\n",
       "     \"</ul>\\n\"+\n",
       "     \"<code>\\n\"+\n",
       "     \"from bokeh.resources import INLINE\\n\"+\n",
       "     \"output_notebook(resources=INLINE)\\n\"+\n",
       "     \"</code>\\n\"+\n",
       "     \"</div>\"}};\n",
       "\n",
       "  function display_loaded() {\n",
       "    const el = document.getElementById(\"1421\");\n",
       "    if (el != null) {\n",
       "      el.textContent = \"BokehJS is loading...\";\n",
       "    }\n",
       "    if (root.Bokeh !== undefined) {\n",
       "      if (el != null) {\n",
       "        el.textContent = \"BokehJS \" + root.Bokeh.version + \" successfully loaded.\";\n",
       "      }\n",
       "    } else if (Date.now() < root._bokeh_timeout) {\n",
       "      setTimeout(display_loaded, 100)\n",
       "    }\n",
       "  }\n",
       "\n",
       "\n",
       "  function run_callbacks() {\n",
       "    try {\n",
       "      root._bokeh_onload_callbacks.forEach(function(callback) {\n",
       "        if (callback != null)\n",
       "          callback();\n",
       "      });\n",
       "    } finally {\n",
       "      delete root._bokeh_onload_callbacks\n",
       "    }\n",
       "    console.debug(\"Bokeh: all callbacks have finished\");\n",
       "  }\n",
       "\n",
       "  function load_libs(css_urls, js_urls, callback) {\n",
       "    if (css_urls == null) css_urls = [];\n",
       "    if (js_urls == null) js_urls = [];\n",
       "\n",
       "    root._bokeh_onload_callbacks.push(callback);\n",
       "    if (root._bokeh_is_loading > 0) {\n",
       "      console.debug(\"Bokeh: BokehJS is being loaded, scheduling callback at\", now());\n",
       "      return null;\n",
       "    }\n",
       "    if (js_urls == null || js_urls.length === 0) {\n",
       "      run_callbacks();\n",
       "      return null;\n",
       "    }\n",
       "    console.debug(\"Bokeh: BokehJS not loaded, scheduling load and callback at\", now());\n",
       "    root._bokeh_is_loading = css_urls.length + js_urls.length;\n",
       "\n",
       "    function on_load() {\n",
       "      root._bokeh_is_loading--;\n",
       "      if (root._bokeh_is_loading === 0) {\n",
       "        console.debug(\"Bokeh: all BokehJS libraries/stylesheets loaded\");\n",
       "        run_callbacks()\n",
       "      }\n",
       "    }\n",
       "\n",
       "    function on_error(url) {\n",
       "      console.error(\"failed to load \" + url);\n",
       "    }\n",
       "\n",
       "    for (let i = 0; i < css_urls.length; i++) {\n",
       "      const url = css_urls[i];\n",
       "      const element = document.createElement(\"link\");\n",
       "      element.onload = on_load;\n",
       "      element.onerror = on_error.bind(null, url);\n",
       "      element.rel = \"stylesheet\";\n",
       "      element.type = \"text/css\";\n",
       "      element.href = url;\n",
       "      console.debug(\"Bokeh: injecting link tag for BokehJS stylesheet: \", url);\n",
       "      document.body.appendChild(element);\n",
       "    }\n",
       "\n",
       "    for (let i = 0; i < js_urls.length; i++) {\n",
       "      const url = js_urls[i];\n",
       "      const element = document.createElement('script');\n",
       "      element.onload = on_load;\n",
       "      element.onerror = on_error.bind(null, url);\n",
       "      element.async = false;\n",
       "      element.src = url;\n",
       "      console.debug(\"Bokeh: injecting script tag for BokehJS library: \", url);\n",
       "      document.head.appendChild(element);\n",
       "    }\n",
       "  };\n",
       "\n",
       "  function inject_raw_css(css) {\n",
       "    const element = document.createElement(\"style\");\n",
       "    element.appendChild(document.createTextNode(css));\n",
       "    document.body.appendChild(element);\n",
       "  }\n",
       "\n",
       "  \n",
       "  const js_urls = [\"https://cdn.bokeh.org/bokeh/release/bokeh-2.4.2.min.js\", \"https://cdn.bokeh.org/bokeh/release/bokeh-gl-2.4.2.min.js\", \"https://cdn.bokeh.org/bokeh/release/bokeh-widgets-2.4.2.min.js\", \"https://cdn.bokeh.org/bokeh/release/bokeh-tables-2.4.2.min.js\", \"https://cdn.bokeh.org/bokeh/release/bokeh-mathjax-2.4.2.min.js\"];\n",
       "  const css_urls = [];\n",
       "  \n",
       "\n",
       "  const inline_js = [\n",
       "    function(Bokeh) {\n",
       "      Bokeh.set_log_level(\"info\");\n",
       "    },\n",
       "    function(Bokeh) {\n",
       "    \n",
       "    \n",
       "    }\n",
       "  ];\n",
       "\n",
       "  function run_inline_js() {\n",
       "    \n",
       "    if (root.Bokeh !== undefined || force === true) {\n",
       "      \n",
       "    for (let i = 0; i < inline_js.length; i++) {\n",
       "      inline_js[i].call(root, root.Bokeh);\n",
       "    }\n",
       "    if (force === true) {\n",
       "        display_loaded();\n",
       "      }} else if (Date.now() < root._bokeh_timeout) {\n",
       "      setTimeout(run_inline_js, 100);\n",
       "    } else if (!root._bokeh_failed_load) {\n",
       "      console.log(\"Bokeh: BokehJS failed to load within specified timeout.\");\n",
       "      root._bokeh_failed_load = true;\n",
       "    } else if (force !== true) {\n",
       "      const cell = $(document.getElementById(\"1421\")).parents('.cell').data().cell;\n",
       "      cell.output_area.append_execute_result(NB_LOAD_WARNING)\n",
       "    }\n",
       "\n",
       "  }\n",
       "\n",
       "  if (root._bokeh_is_loading === 0) {\n",
       "    console.debug(\"Bokeh: BokehJS loaded, going straight to plotting\");\n",
       "    run_inline_js();\n",
       "  } else {\n",
       "    load_libs(css_urls, js_urls, function() {\n",
       "      console.debug(\"Bokeh: BokehJS plotting callback run at\", now());\n",
       "      run_inline_js();\n",
       "    });\n",
       "  }\n",
       "}(window));"
      ],
      "application/vnd.bokehjs_load.v0+json": "\n(function(root) {\n  function now() {\n    return new Date();\n  }\n\n  const force = true;\n\n  if (typeof root._bokeh_onload_callbacks === \"undefined\" || force === true) {\n    root._bokeh_onload_callbacks = [];\n    root._bokeh_is_loading = undefined;\n  }\n\n  \n\n  \n  if (typeof (root._bokeh_timeout) === \"undefined\" || force === true) {\n    root._bokeh_timeout = Date.now() + 5000;\n    root._bokeh_failed_load = false;\n  }\n\n  const NB_LOAD_WARNING = {'data': {'text/html':\n     \"<div style='background-color: #fdd'>\\n\"+\n     \"<p>\\n\"+\n     \"BokehJS does not appear to have successfully loaded. If loading BokehJS from CDN, this \\n\"+\n     \"may be due to a slow or bad network connection. Possible fixes:\\n\"+\n     \"</p>\\n\"+\n     \"<ul>\\n\"+\n     \"<li>re-rerun `output_notebook()` to attempt to load from CDN again, or</li>\\n\"+\n     \"<li>use INLINE resources instead, as so:</li>\\n\"+\n     \"</ul>\\n\"+\n     \"<code>\\n\"+\n     \"from bokeh.resources import INLINE\\n\"+\n     \"output_notebook(resources=INLINE)\\n\"+\n     \"</code>\\n\"+\n     \"</div>\"}};\n\n  function display_loaded() {\n    const el = document.getElementById(\"1421\");\n    if (el != null) {\n      el.textContent = \"BokehJS is loading...\";\n    }\n    if (root.Bokeh !== undefined) {\n      if (el != null) {\n        el.textContent = \"BokehJS \" + root.Bokeh.version + \" successfully loaded.\";\n      }\n    } else if (Date.now() < root._bokeh_timeout) {\n      setTimeout(display_loaded, 100)\n    }\n  }\n\n\n  function run_callbacks() {\n    try {\n      root._bokeh_onload_callbacks.forEach(function(callback) {\n        if (callback != null)\n          callback();\n      });\n    } finally {\n      delete root._bokeh_onload_callbacks\n    }\n    console.debug(\"Bokeh: all callbacks have finished\");\n  }\n\n  function load_libs(css_urls, js_urls, callback) {\n    if (css_urls == null) css_urls = [];\n    if (js_urls == null) js_urls = [];\n\n    root._bokeh_onload_callbacks.push(callback);\n    if (root._bokeh_is_loading > 0) {\n      console.debug(\"Bokeh: BokehJS is being loaded, scheduling callback at\", now());\n      return null;\n    }\n    if (js_urls == null || js_urls.length === 0) {\n      run_callbacks();\n      return null;\n    }\n    console.debug(\"Bokeh: BokehJS not loaded, scheduling load and callback at\", now());\n    root._bokeh_is_loading = css_urls.length + js_urls.length;\n\n    function on_load() {\n      root._bokeh_is_loading--;\n      if (root._bokeh_is_loading === 0) {\n        console.debug(\"Bokeh: all BokehJS libraries/stylesheets loaded\");\n        run_callbacks()\n      }\n    }\n\n    function on_error(url) {\n      console.error(\"failed to load \" + url);\n    }\n\n    for (let i = 0; i < css_urls.length; i++) {\n      const url = css_urls[i];\n      const element = document.createElement(\"link\");\n      element.onload = on_load;\n      element.onerror = on_error.bind(null, url);\n      element.rel = \"stylesheet\";\n      element.type = \"text/css\";\n      element.href = url;\n      console.debug(\"Bokeh: injecting link tag for BokehJS stylesheet: \", url);\n      document.body.appendChild(element);\n    }\n\n    for (let i = 0; i < js_urls.length; i++) {\n      const url = js_urls[i];\n      const element = document.createElement('script');\n      element.onload = on_load;\n      element.onerror = on_error.bind(null, url);\n      element.async = false;\n      element.src = url;\n      console.debug(\"Bokeh: injecting script tag for BokehJS library: \", url);\n      document.head.appendChild(element);\n    }\n  };\n\n  function inject_raw_css(css) {\n    const element = document.createElement(\"style\");\n    element.appendChild(document.createTextNode(css));\n    document.body.appendChild(element);\n  }\n\n  \n  const js_urls = [\"https://cdn.bokeh.org/bokeh/release/bokeh-2.4.2.min.js\", \"https://cdn.bokeh.org/bokeh/release/bokeh-gl-2.4.2.min.js\", \"https://cdn.bokeh.org/bokeh/release/bokeh-widgets-2.4.2.min.js\", \"https://cdn.bokeh.org/bokeh/release/bokeh-tables-2.4.2.min.js\", \"https://cdn.bokeh.org/bokeh/release/bokeh-mathjax-2.4.2.min.js\"];\n  const css_urls = [];\n  \n\n  const inline_js = [\n    function(Bokeh) {\n      Bokeh.set_log_level(\"info\");\n    },\n    function(Bokeh) {\n    \n    \n    }\n  ];\n\n  function run_inline_js() {\n    \n    if (root.Bokeh !== undefined || force === true) {\n      \n    for (let i = 0; i < inline_js.length; i++) {\n      inline_js[i].call(root, root.Bokeh);\n    }\n    if (force === true) {\n        display_loaded();\n      }} else if (Date.now() < root._bokeh_timeout) {\n      setTimeout(run_inline_js, 100);\n    } else if (!root._bokeh_failed_load) {\n      console.log(\"Bokeh: BokehJS failed to load within specified timeout.\");\n      root._bokeh_failed_load = true;\n    } else if (force !== true) {\n      const cell = $(document.getElementById(\"1421\")).parents('.cell').data().cell;\n      cell.output_area.append_execute_result(NB_LOAD_WARNING)\n    }\n\n  }\n\n  if (root._bokeh_is_loading === 0) {\n    console.debug(\"Bokeh: BokehJS loaded, going straight to plotting\");\n    run_inline_js();\n  } else {\n    load_libs(css_urls, js_urls, function() {\n      console.debug(\"Bokeh: BokehJS plotting callback run at\", now());\n      run_inline_js();\n    });\n  }\n}(window));"
     },
     "metadata": {},
     "output_type": "display_data"
    },
    {
     "data": {
      "text/html": [
       "\n",
       "\n",
       "\n",
       "\n",
       "\n",
       "\n",
       "  <div class=\"bk-root\" id=\"e16be69e-e479-4107-90a7-52873c8ab94f\" data-root-id=\"1002\"></div>\n"
      ]
     },
     "metadata": {},
     "output_type": "display_data"
    },
    {
     "data": {
      "application/javascript": [
       "(function(root) {\n",
       "  function embed_document(root) {\n",
       "    \n",
       "  const docs_json = {\"d20746b1-e595-476e-a808-54f7c3814200\":{\"defs\":[],\"roots\":{\"references\":[{\"attributes\":{\"below\":[{\"id\":\"1011\"}],\"center\":[{\"id\":\"1014\"},{\"id\":\"1018\"},{\"id\":\"1062\"}],\"extra_y_ranges\":{\"sentiment\":{\"id\":\"1419\"}},\"left\":[{\"id\":\"1015\"}],\"renderers\":[{\"id\":\"1037\"},{\"id\":\"1068\"},{\"id\":\"1099\"},{\"id\":\"1133\"},{\"id\":\"1168\"},{\"id\":\"1206\"},{\"id\":\"1245\"},{\"id\":\"1287\"},{\"id\":\"1330\"},{\"id\":\"1376\"}],\"right\":[{\"id\":\"1420\"}],\"title\":{\"id\":\"1039\"},\"toolbar\":{\"id\":\"1026\"},\"width\":900,\"x_range\":{\"id\":\"1003\"},\"x_scale\":{\"id\":\"1007\"},\"y_range\":{\"id\":\"1005\"},\"y_scale\":{\"id\":\"1009\"}},\"id\":\"1002\",\"subtype\":\"Figure\",\"type\":\"Plot\"},{\"attributes\":{\"coordinates\":null,\"data_source\":{\"id\":\"1283\"},\"glyph\":{\"id\":\"1284\"},\"group\":null,\"hover_glyph\":null,\"muted_glyph\":{\"id\":\"1286\"},\"nonselection_glyph\":{\"id\":\"1285\"},\"view\":{\"id\":\"1288\"},\"y_range_name\":\"sentiment\"},\"id\":\"1287\",\"type\":\"GlyphRenderer\"},{\"attributes\":{\"data\":{\"x\":[1636243200000.0,1636329600000.0,1636416000000.0,1636502400000.0,1636588800000.0,1636675200000.0,1636761600000.0,1636848000000.0,1636934400000.0,1637020800000.0,1637107200000.0,1637193600000.0,1637280000000.0,1637366400000.0,1637452800000.0,1637539200000.0,1637712000000.0,1637798400000.0,1637884800000.0,1637971200000.0,1638057600000.0,1638144000000.0,1638230400000.0,1638316800000.0],\"y\":[0.04354545454545455,0.0572,0.10577272727272727,0.10957894736842104,0.05779310344827586,0.06225,0.034999999999999996,0.05172222222222222,0.06692307692307692,0.1025,0.03218181818181818,0.02876923076923077,0.036000000000000004,0.02225,0.0442,0.005,0.0,0.033499999999999995,0.425,0.013,0.019333333333333334,0.10988888888888888,0.006375,0.06075]},\"selected\":{\"id\":\"1150\"},\"selection_policy\":{\"id\":\"1149\"}},\"id\":\"1129\",\"type\":\"ColumnDataSource\"},{\"attributes\":{\"fill_color\":{\"value\":\"blue\"},\"hatch_color\":{\"value\":\"blue\"},\"line_color\":{\"value\":\"blue\"},\"line_width\":{\"value\":2},\"x\":{\"field\":\"x\"},\"y\":{\"field\":\"y\"}},\"id\":\"1373\",\"type\":\"Circle\"},{\"attributes\":{},\"id\":\"1187\",\"type\":\"Selection\"},{\"attributes\":{\"coordinates\":null,\"data_source\":{\"id\":\"1202\"},\"glyph\":{\"id\":\"1203\"},\"group\":null,\"hover_glyph\":null,\"muted_glyph\":{\"id\":\"1205\"},\"nonselection_glyph\":{\"id\":\"1204\"},\"view\":{\"id\":\"1207\"},\"y_range_name\":\"sentiment\"},\"id\":\"1206\",\"type\":\"GlyphRenderer\"},{\"attributes\":{\"line_color\":\"red\",\"line_width\":2,\"x\":{\"field\":\"x\"},\"y\":{\"field\":\"y\"}},\"id\":\"1096\",\"type\":\"Line\"},{\"attributes\":{\"line_alpha\":0.2,\"line_color\":\"yellow\",\"line_width\":2,\"x\":{\"field\":\"x\"},\"y\":{\"field\":\"y\"}},\"id\":\"1244\",\"type\":\"Line\"},{\"attributes\":{\"line_alpha\":0.1,\"line_color\":\"red\",\"line_width\":2,\"x\":{\"field\":\"x\"},\"y\":{\"field\":\"y\"}},\"id\":\"1097\",\"type\":\"Line\"},{\"attributes\":{\"label\":{\"value\":\"Daily's Average Compound Sentiment Score\"},\"renderers\":[{\"id\":\"1245\"},{\"id\":\"1287\"}]},\"id\":\"1282\",\"type\":\"LegendItem\"},{\"attributes\":{},\"id\":\"1268\",\"type\":\"Selection\"},{\"attributes\":{\"days\":[1,2,3,4,5,6,7,8,9,10,11,12,13,14,15,16,17,18,19,20,21,22,23,24,25,26,27,28,29,30,31]},\"id\":\"1053\",\"type\":\"DaysTicker\"},{\"attributes\":{\"coordinates\":null,\"data_source\":{\"id\":\"1241\"},\"glyph\":{\"id\":\"1242\"},\"group\":null,\"hover_glyph\":null,\"muted_glyph\":{\"id\":\"1244\"},\"nonselection_glyph\":{\"id\":\"1243\"},\"view\":{\"id\":\"1246\"},\"y_range_name\":\"sentiment\"},\"id\":\"1245\",\"type\":\"GlyphRenderer\"},{\"attributes\":{\"fill_color\":{\"value\":\"red\"},\"hatch_color\":{\"value\":\"red\"},\"line_color\":{\"value\":\"red\"},\"line_width\":{\"value\":2},\"x\":{\"field\":\"x\"},\"y\":{\"field\":\"y\"}},\"id\":\"1130\",\"type\":\"Circle\"},{\"attributes\":{\"days\":[1,4,7,10,13,16,19,22,25,28]},\"id\":\"1054\",\"type\":\"DaysTicker\"},{\"attributes\":{\"line_alpha\":0.2,\"line_color\":\"red\",\"line_width\":2,\"x\":{\"field\":\"x\"},\"y\":{\"field\":\"y\"}},\"id\":\"1098\",\"type\":\"Line\"},{\"attributes\":{\"source\":{\"id\":\"1241\"}},\"id\":\"1246\",\"type\":\"CDSView\"},{\"attributes\":{\"months\":[0,1,2,3,4,5,6,7,8,9,10,11]},\"id\":\"1057\",\"type\":\"MonthsTicker\"},{\"attributes\":{\"line_alpha\":0.2,\"line_color\":\"gray\",\"line_width\":2,\"x\":{\"field\":\"x\"},\"y\":{\"field\":\"y\"}},\"id\":\"1167\",\"type\":\"Line\"},{\"attributes\":{},\"id\":\"1267\",\"type\":\"UnionRenderers\"},{\"attributes\":{\"label\":{\"value\":\"Daily's Average Positive Sentiment Score\"},\"renderers\":[{\"id\":\"1037\"},{\"id\":\"1068\"}]},\"id\":\"1063\",\"type\":\"LegendItem\"},{\"attributes\":{\"data\":{\"x\":[1636243200000.0,1636329600000.0,1636416000000.0,1636502400000.0,1636588800000.0,1636675200000.0,1636761600000.0,1636848000000.0,1636934400000.0,1637020800000.0,1637107200000.0,1637193600000.0,1637280000000.0,1637366400000.0,1637452800000.0,1637539200000.0,1637712000000.0,1637798400000.0,1637884800000.0,1637971200000.0,1638057600000.0,1638144000000.0,1638230400000.0,1638316800000.0],\"y\":[1222.09,1222.09,1162.94,1023.5,1067.95,1063.51,1033.42,1033.42,1033.42,1013.39,1054.73,1089.01,1096.38,1137.06,1137.06,1137.06,1109.03,1116.0,1116.0,1081.92,1081.92,1081.92,1136.99,1144.76]},\"selected\":{\"id\":\"1357\"},\"selection_policy\":{\"id\":\"1356\"}},\"id\":\"1326\",\"type\":\"ColumnDataSource\"},{\"attributes\":{\"data\":{\"x\":[1636243200000.0,1636329600000.0,1636416000000.0,1636502400000.0,1636588800000.0,1636675200000.0,1636761600000.0,1636848000000.0,1636934400000.0,1637020800000.0,1637107200000.0,1637193600000.0,1637280000000.0,1637366400000.0,1637452800000.0,1637539200000.0,1637712000000.0,1637798400000.0,1637884800000.0,1637971200000.0,1638057600000.0,1638144000000.0,1638230400000.0,1638316800000.0],\"y\":[0.22017727272727275,0.130912,-0.02304545454545455,0.07252631578947367,0.29761034482758625,0.39168333333333333,0.7125,0.2866722222222222,0.19945384615384618,0.25268125,0.45909090909090905,0.3168153846153846,0.25678125,0.57835,0.59614,0.4849666666666666,0.296,0.24048333333333335,-0.8118,0.4492,0.38830000000000003,0.3770888888888889,0.3105875,0.356175]},\"selected\":{\"id\":\"1268\"},\"selection_policy\":{\"id\":\"1267\"}},\"id\":\"1241\",\"type\":\"ColumnDataSource\"},{\"attributes\":{\"months\":[0,6]},\"id\":\"1060\",\"type\":\"MonthsTicker\"},{\"attributes\":{\"fill_color\":{\"value\":\"green\"},\"hatch_color\":{\"value\":\"green\"},\"line_color\":{\"value\":\"green\"},\"line_width\":{\"value\":2},\"x\":{\"field\":\"x\"},\"y\":{\"field\":\"y\"}},\"id\":\"1065\",\"type\":\"Circle\"},{\"attributes\":{\"tools\":[{\"id\":\"1019\"},{\"id\":\"1020\"},{\"id\":\"1021\"},{\"id\":\"1022\"},{\"id\":\"1023\"},{\"id\":\"1024\"}]},\"id\":\"1026\",\"type\":\"Toolbar\"},{\"attributes\":{\"source\":{\"id\":\"1164\"}},\"id\":\"1169\",\"type\":\"CDSView\"},{\"attributes\":{\"coordinates\":null,\"data_source\":{\"id\":\"1129\"},\"glyph\":{\"id\":\"1130\"},\"group\":null,\"hover_glyph\":null,\"muted_glyph\":{\"id\":\"1132\"},\"nonselection_glyph\":{\"id\":\"1131\"},\"view\":{\"id\":\"1134\"},\"y_range_name\":\"sentiment\"},\"id\":\"1133\",\"type\":\"GlyphRenderer\"},{\"attributes\":{},\"id\":\"1186\",\"type\":\"UnionRenderers\"},{\"attributes\":{\"fill_alpha\":{\"value\":0.1},\"fill_color\":{\"value\":\"green\"},\"hatch_alpha\":{\"value\":0.1},\"hatch_color\":{\"value\":\"green\"},\"line_alpha\":{\"value\":0.1},\"line_color\":{\"value\":\"green\"},\"line_width\":{\"value\":2},\"x\":{\"field\":\"x\"},\"y\":{\"field\":\"y\"}},\"id\":\"1066\",\"type\":\"Circle\"},{\"attributes\":{\"fill_color\":{\"value\":\"yellow\"},\"hatch_color\":{\"value\":\"yellow\"},\"line_color\":{\"value\":\"yellow\"},\"line_width\":{\"value\":2},\"x\":{\"field\":\"x\"},\"y\":{\"field\":\"y\"}},\"id\":\"1284\",\"type\":\"Circle\"},{\"attributes\":{\"coordinates\":null,\"data_source\":{\"id\":\"1164\"},\"glyph\":{\"id\":\"1165\"},\"group\":null,\"hover_glyph\":null,\"muted_glyph\":{\"id\":\"1167\"},\"nonselection_glyph\":{\"id\":\"1166\"},\"view\":{\"id\":\"1169\"},\"y_range_name\":\"sentiment\"},\"id\":\"1168\",\"type\":\"GlyphRenderer\"},{\"attributes\":{\"hatch_color\":{\"value\":\"gray\"},\"line_color\":{\"value\":\"gray\"},\"line_width\":{\"value\":2},\"x\":{\"field\":\"x\"},\"y\":{\"field\":\"y\"}},\"id\":\"1203\",\"type\":\"Circle\"},{\"attributes\":{\"label\":{\"value\":\"Daily's Average Neutral Sentiment Score\"},\"renderers\":[{\"id\":\"1168\"},{\"id\":\"1206\"}]},\"id\":\"1201\",\"type\":\"LegendItem\"},{\"attributes\":{\"coordinates\":null,\"data_source\":{\"id\":\"1095\"},\"glyph\":{\"id\":\"1096\"},\"group\":null,\"hover_glyph\":null,\"muted_glyph\":{\"id\":\"1098\"},\"nonselection_glyph\":{\"id\":\"1097\"},\"view\":{\"id\":\"1100\"},\"y_range_name\":\"sentiment\"},\"id\":\"1099\",\"type\":\"GlyphRenderer\"},{\"attributes\":{\"source\":{\"id\":\"1095\"}},\"id\":\"1100\",\"type\":\"CDSView\"},{\"attributes\":{},\"id\":\"1113\",\"type\":\"UnionRenderers\"},{\"attributes\":{\"data\":{\"x\":[1636243200000.0,1636329600000.0,1636416000000.0,1636502400000.0,1636588800000.0,1636675200000.0,1636761600000.0,1636848000000.0,1636934400000.0,1637020800000.0,1637107200000.0,1637193600000.0,1637280000000.0,1637366400000.0,1637452800000.0,1637539200000.0,1637712000000.0,1637798400000.0,1637884800000.0,1637971200000.0,1638057600000.0,1638144000000.0,1638230400000.0,1638316800000.0],\"y\":[0.8357727272727273,0.85268,0.8441818181818181,0.8097894736842105,0.8395517241379311,0.8027500000000001,0.8648333333333333,0.8296111111111111,0.8470384615384615,0.78575,0.9012727272727272,0.8805384615384615,0.8705,0.90825,0.8246,0.8656666666666667,0.833,0.8971666666666667,0.575,0.8263333333333334,0.862,0.6987777777777777,0.9205,0.79725]},\"selected\":{\"id\":\"1187\"},\"selection_policy\":{\"id\":\"1186\"}},\"id\":\"1164\",\"type\":\"ColumnDataSource\"},{\"attributes\":{\"data\":{\"x\":[1636243200000.0,1636329600000.0,1636416000000.0,1636502400000.0,1636588800000.0,1636675200000.0,1636761600000.0,1636848000000.0,1636934400000.0,1637020800000.0,1637107200000.0,1637193600000.0,1637280000000.0,1637366400000.0,1637452800000.0,1637539200000.0,1637712000000.0,1637798400000.0,1637884800000.0,1637971200000.0,1638057600000.0,1638144000000.0,1638230400000.0,1638316800000.0],\"y\":[0.04354545454545455,0.0572,0.10577272727272727,0.10957894736842104,0.05779310344827586,0.06225,0.034999999999999996,0.05172222222222222,0.06692307692307692,0.1025,0.03218181818181818,0.02876923076923077,0.036000000000000004,0.02225,0.0442,0.005,0.0,0.033499999999999995,0.425,0.013,0.019333333333333334,0.10988888888888888,0.006375,0.06075]},\"selected\":{\"id\":\"1114\"},\"selection_policy\":{\"id\":\"1113\"}},\"id\":\"1095\",\"type\":\"ColumnDataSource\"},{\"attributes\":{\"label\":{\"value\":\"Daily's Average Negative Sentiment Score\"},\"renderers\":[{\"id\":\"1099\"},{\"id\":\"1133\"}]},\"id\":\"1128\",\"type\":\"LegendItem\"},{\"attributes\":{\"source\":{\"id\":\"1064\"}},\"id\":\"1069\",\"type\":\"CDSView\"},{\"attributes\":{},\"id\":\"1114\",\"type\":\"Selection\"},{\"attributes\":{\"data\":{\"x\":[1636243200000.0,1636329600000.0,1636416000000.0,1636502400000.0,1636588800000.0,1636675200000.0,1636761600000.0,1636848000000.0,1636934400000.0,1637020800000.0,1637107200000.0,1637193600000.0,1637280000000.0,1637366400000.0,1637452800000.0,1637539200000.0,1637712000000.0,1637798400000.0,1637884800000.0,1637971200000.0,1638057600000.0,1638144000000.0,1638230400000.0,1638316800000.0],\"y\":[0.12063636363636364,0.09008000000000001,0.050045454545454546,0.08063157894736843,0.10275862068965518,0.135,0.10016666666666667,0.1186111111111111,0.08607692307692308,0.1116875,0.06654545454545455,0.09076923076923077,0.0935,0.06949999999999999,0.13119999999999998,0.12933333333333333,0.167,0.06916666666666667,0.0,0.16066666666666665,0.11866666666666666,0.19144444444444444,0.07325,0.14175]},\"selected\":{\"id\":\"1048\"},\"selection_policy\":{\"id\":\"1047\"}},\"id\":\"1033\",\"type\":\"ColumnDataSource\"},{\"attributes\":{\"coordinates\":null,\"group\":null},\"id\":\"1039\",\"type\":\"Title\"},{\"attributes\":{\"coordinates\":null,\"data_source\":{\"id\":\"1064\"},\"glyph\":{\"id\":\"1065\"},\"group\":null,\"hover_glyph\":null,\"muted_glyph\":{\"id\":\"1067\"},\"nonselection_glyph\":{\"id\":\"1066\"},\"view\":{\"id\":\"1069\"},\"y_range_name\":\"sentiment\"},\"id\":\"1068\",\"type\":\"GlyphRenderer\"},{\"attributes\":{\"fill_alpha\":{\"value\":0.2},\"fill_color\":{\"value\":\"green\"},\"hatch_alpha\":{\"value\":0.2},\"hatch_color\":{\"value\":\"green\"},\"line_alpha\":{\"value\":0.2},\"line_color\":{\"value\":\"green\"},\"line_width\":{\"value\":2},\"x\":{\"field\":\"x\"},\"y\":{\"field\":\"y\"}},\"id\":\"1067\",\"type\":\"Circle\"},{\"attributes\":{\"data\":{\"x\":[1636243200000.0,1636329600000.0,1636416000000.0,1636502400000.0,1636588800000.0,1636675200000.0,1636761600000.0,1636848000000.0,1636934400000.0,1637020800000.0,1637107200000.0,1637193600000.0,1637280000000.0,1637366400000.0,1637452800000.0,1637539200000.0,1637712000000.0,1637798400000.0,1637884800000.0,1637971200000.0,1638057600000.0,1638144000000.0,1638230400000.0,1638316800000.0],\"y\":[1222.09,1222.09,1162.94,1023.5,1067.95,1063.51,1033.42,1033.42,1033.42,1013.39,1054.73,1089.01,1096.38,1137.06,1137.06,1137.06,1109.03,1116.0,1116.0,1081.92,1081.92,1081.92,1136.99,1144.76]},\"selected\":{\"id\":\"1405\"},\"selection_policy\":{\"id\":\"1404\"}},\"id\":\"1372\",\"type\":\"ColumnDataSource\"},{\"attributes\":{},\"id\":\"1061\",\"type\":\"YearsTicker\"},{\"attributes\":{\"line_color\":\"blue\",\"line_width\":2,\"x\":{\"field\":\"x\"},\"y\":{\"field\":\"y\"}},\"id\":\"1327\",\"type\":\"Line\"},{\"attributes\":{\"base\":24,\"mantissas\":[1,2,4,6,8,12],\"max_interval\":43200000.0,\"min_interval\":3600000.0,\"num_minor_ticks\":0},\"id\":\"1052\",\"type\":\"AdaptiveTicker\"},{\"attributes\":{\"fill_alpha\":{\"value\":0.2},\"fill_color\":{\"value\":\"yellow\"},\"hatch_alpha\":{\"value\":0.2},\"hatch_color\":{\"value\":\"yellow\"},\"line_alpha\":{\"value\":0.2},\"line_color\":{\"value\":\"yellow\"},\"line_width\":{\"value\":2},\"x\":{\"field\":\"x\"},\"y\":{\"field\":\"y\"}},\"id\":\"1286\",\"type\":\"Circle\"},{\"attributes\":{\"fill_alpha\":{\"value\":0.1},\"fill_color\":{\"value\":\"yellow\"},\"hatch_alpha\":{\"value\":0.1},\"hatch_color\":{\"value\":\"yellow\"},\"line_alpha\":{\"value\":0.1},\"line_color\":{\"value\":\"yellow\"},\"line_width\":{\"value\":2},\"x\":{\"field\":\"x\"},\"y\":{\"field\":\"y\"}},\"id\":\"1285\",\"type\":\"Circle\"},{\"attributes\":{},\"id\":\"1080\",\"type\":\"UnionRenderers\"},{\"attributes\":{},\"id\":\"1081\",\"type\":\"Selection\"},{\"attributes\":{},\"id\":\"1312\",\"type\":\"Selection\"},{\"attributes\":{\"line_alpha\":0.1,\"line_color\":\"yellow\",\"line_width\":2,\"x\":{\"field\":\"x\"},\"y\":{\"field\":\"y\"}},\"id\":\"1243\",\"type\":\"Line\"},{\"attributes\":{\"source\":{\"id\":\"1283\"}},\"id\":\"1288\",\"type\":\"CDSView\"},{\"attributes\":{\"line_color\":\"yellow\",\"line_width\":2,\"x\":{\"field\":\"x\"},\"y\":{\"field\":\"y\"}},\"id\":\"1242\",\"type\":\"Line\"},{\"attributes\":{\"source\":{\"id\":\"1326\"}},\"id\":\"1331\",\"type\":\"CDSView\"},{\"attributes\":{},\"id\":\"1311\",\"type\":\"UnionRenderers\"},{\"attributes\":{},\"id\":\"1227\",\"type\":\"Selection\"},{\"attributes\":{},\"id\":\"1226\",\"type\":\"UnionRenderers\"},{\"attributes\":{\"days\":[1,8,15,22]},\"id\":\"1055\",\"type\":\"DaysTicker\"},{\"attributes\":{\"data\":{\"x\":[1636243200000.0,1636329600000.0,1636416000000.0,1636502400000.0,1636588800000.0,1636675200000.0,1636761600000.0,1636848000000.0,1636934400000.0,1637020800000.0,1637107200000.0,1637193600000.0,1637280000000.0,1637366400000.0,1637452800000.0,1637539200000.0,1637712000000.0,1637798400000.0,1637884800000.0,1637971200000.0,1638057600000.0,1638144000000.0,1638230400000.0,1638316800000.0],\"y\":[0.8357727272727273,0.85268,0.8441818181818181,0.8097894736842105,0.8395517241379311,0.8027500000000001,0.8648333333333333,0.8296111111111111,0.8470384615384615,0.78575,0.9012727272727272,0.8805384615384615,0.8705,0.90825,0.8246,0.8656666666666667,0.833,0.8971666666666667,0.575,0.8263333333333334,0.862,0.6987777777777777,0.9205,0.79725]},\"selected\":{\"id\":\"1227\"},\"selection_policy\":{\"id\":\"1226\"}},\"id\":\"1202\",\"type\":\"ColumnDataSource\"},{\"attributes\":{\"fill_alpha\":{\"value\":0.1},\"hatch_alpha\":{\"value\":0.1},\"hatch_color\":{\"value\":\"gray\"},\"line_alpha\":{\"value\":0.1},\"line_color\":{\"value\":\"gray\"},\"line_width\":{\"value\":2},\"x\":{\"field\":\"x\"},\"y\":{\"field\":\"y\"}},\"id\":\"1204\",\"type\":\"Circle\"},{\"attributes\":{\"fill_alpha\":{\"value\":0.2},\"hatch_alpha\":{\"value\":0.2},\"hatch_color\":{\"value\":\"gray\"},\"line_alpha\":{\"value\":0.2},\"line_color\":{\"value\":\"gray\"},\"line_width\":{\"value\":2},\"x\":{\"field\":\"x\"},\"y\":{\"field\":\"y\"}},\"id\":\"1205\",\"type\":\"Circle\"},{\"attributes\":{\"line_alpha\":0.1,\"line_color\":\"gray\",\"line_width\":2,\"x\":{\"field\":\"x\"},\"y\":{\"field\":\"y\"}},\"id\":\"1166\",\"type\":\"Line\"},{\"attributes\":{\"source\":{\"id\":\"1202\"}},\"id\":\"1207\",\"type\":\"CDSView\"},{\"attributes\":{\"months\":[0,4,8]},\"id\":\"1059\",\"type\":\"MonthsTicker\"},{\"attributes\":{\"line_color\":\"gray\",\"line_width\":2,\"x\":{\"field\":\"x\"},\"y\":{\"field\":\"y\"}},\"id\":\"1165\",\"type\":\"Line\"},{\"attributes\":{\"data\":{\"x\":[1636243200000.0,1636329600000.0,1636416000000.0,1636502400000.0,1636588800000.0,1636675200000.0,1636761600000.0,1636848000000.0,1636934400000.0,1637020800000.0,1637107200000.0,1637193600000.0,1637280000000.0,1637366400000.0,1637452800000.0,1637539200000.0,1637712000000.0,1637798400000.0,1637884800000.0,1637971200000.0,1638057600000.0,1638144000000.0,1638230400000.0,1638316800000.0],\"y\":[0.22017727272727275,0.130912,-0.02304545454545455,0.07252631578947367,0.29761034482758625,0.39168333333333333,0.7125,0.2866722222222222,0.19945384615384618,0.25268125,0.45909090909090905,0.3168153846153846,0.25678125,0.57835,0.59614,0.4849666666666666,0.296,0.24048333333333335,-0.8118,0.4492,0.38830000000000003,0.3770888888888889,0.3105875,0.356175]},\"selected\":{\"id\":\"1312\"},\"selection_policy\":{\"id\":\"1311\"}},\"id\":\"1283\",\"type\":\"ColumnDataSource\"},{\"attributes\":{\"fill_alpha\":{\"value\":0.2},\"fill_color\":{\"value\":\"red\"},\"hatch_alpha\":{\"value\":0.2},\"hatch_color\":{\"value\":\"red\"},\"line_alpha\":{\"value\":0.2},\"line_color\":{\"value\":\"red\"},\"line_width\":{\"value\":2},\"x\":{\"field\":\"x\"},\"y\":{\"field\":\"y\"}},\"id\":\"1132\",\"type\":\"Circle\"},{\"attributes\":{\"mantissas\":[1,2,5],\"max_interval\":500.0,\"num_minor_ticks\":0},\"id\":\"1050\",\"type\":\"AdaptiveTicker\"},{\"attributes\":{\"fill_alpha\":{\"value\":0.1},\"fill_color\":{\"value\":\"red\"},\"hatch_alpha\":{\"value\":0.1},\"hatch_color\":{\"value\":\"red\"},\"line_alpha\":{\"value\":0.1},\"line_color\":{\"value\":\"red\"},\"line_width\":{\"value\":2},\"x\":{\"field\":\"x\"},\"y\":{\"field\":\"y\"}},\"id\":\"1131\",\"type\":\"Circle\"},{\"attributes\":{\"days\":[1,15]},\"id\":\"1056\",\"type\":\"DaysTicker\"},{\"attributes\":{},\"id\":\"1150\",\"type\":\"Selection\"},{\"attributes\":{\"source\":{\"id\":\"1129\"}},\"id\":\"1134\",\"type\":\"CDSView\"},{\"attributes\":{},\"id\":\"1149\",\"type\":\"UnionRenderers\"},{\"attributes\":{\"months\":[0,2,4,6,8,10]},\"id\":\"1058\",\"type\":\"MonthsTicker\"},{\"attributes\":{},\"id\":\"1023\",\"type\":\"ResetTool\"},{\"attributes\":{},\"id\":\"1022\",\"type\":\"SaveTool\"},{\"attributes\":{\"overlay\":{\"id\":\"1025\"}},\"id\":\"1021\",\"type\":\"BoxZoomTool\"},{\"attributes\":{},\"id\":\"1019\",\"type\":\"PanTool\"},{\"attributes\":{},\"id\":\"1024\",\"type\":\"HelpTool\"},{\"attributes\":{\"data\":{\"x\":[1636243200000.0,1636329600000.0,1636416000000.0,1636502400000.0,1636588800000.0,1636675200000.0,1636761600000.0,1636848000000.0,1636934400000.0,1637020800000.0,1637107200000.0,1637193600000.0,1637280000000.0,1637366400000.0,1637452800000.0,1637539200000.0,1637712000000.0,1637798400000.0,1637884800000.0,1637971200000.0,1638057600000.0,1638144000000.0,1638230400000.0,1638316800000.0],\"y\":[0.12063636363636364,0.09008000000000001,0.050045454545454546,0.08063157894736843,0.10275862068965518,0.135,0.10016666666666667,0.1186111111111111,0.08607692307692308,0.1116875,0.06654545454545455,0.09076923076923077,0.0935,0.06949999999999999,0.13119999999999998,0.12933333333333333,0.167,0.06916666666666667,0.0,0.16066666666666665,0.11866666666666666,0.19144444444444444,0.07325,0.14175]},\"selected\":{\"id\":\"1081\"},\"selection_policy\":{\"id\":\"1080\"}},\"id\":\"1064\",\"type\":\"ColumnDataSource\"},{\"attributes\":{\"line_alpha\":0.1,\"line_color\":\"green\",\"line_width\":2,\"x\":{\"field\":\"x\"},\"y\":{\"field\":\"y\"}},\"id\":\"1035\",\"type\":\"Line\"},{\"attributes\":{},\"id\":\"1016\",\"type\":\"BasicTicker\"},{\"attributes\":{\"axis_label\":\"Price\",\"coordinates\":null,\"formatter\":{\"id\":\"1042\"},\"group\":null,\"major_label_policy\":{\"id\":\"1043\"},\"ticker\":{\"id\":\"1016\"}},\"id\":\"1015\",\"type\":\"LinearAxis\"},{\"attributes\":{\"axis\":{\"id\":\"1015\"},\"coordinates\":null,\"dimension\":1,\"group\":null,\"ticker\":null},\"id\":\"1018\",\"type\":\"Grid\"},{\"attributes\":{\"label\":{\"value\":\"Stock Price\"},\"renderers\":[{\"id\":\"1330\"},{\"id\":\"1376\"}]},\"id\":\"1371\",\"type\":\"LegendItem\"},{\"attributes\":{\"source\":{\"id\":\"1033\"}},\"id\":\"1038\",\"type\":\"CDSView\"},{\"attributes\":{\"coordinates\":null,\"data_source\":{\"id\":\"1033\"},\"glyph\":{\"id\":\"1034\"},\"group\":null,\"hover_glyph\":null,\"muted_glyph\":{\"id\":\"1036\"},\"nonselection_glyph\":{\"id\":\"1035\"},\"view\":{\"id\":\"1038\"},\"y_range_name\":\"sentiment\"},\"id\":\"1037\",\"type\":\"GlyphRenderer\"},{\"attributes\":{\"line_color\":\"green\",\"line_width\":2,\"x\":{\"field\":\"x\"},\"y\":{\"field\":\"y\"}},\"id\":\"1034\",\"type\":\"Line\"},{\"attributes\":{\"coordinates\":null,\"data_source\":{\"id\":\"1326\"},\"glyph\":{\"id\":\"1327\"},\"group\":null,\"hover_glyph\":null,\"muted_glyph\":{\"id\":\"1329\"},\"nonselection_glyph\":{\"id\":\"1328\"},\"view\":{\"id\":\"1331\"}},\"id\":\"1330\",\"type\":\"GlyphRenderer\"},{\"attributes\":{\"line_alpha\":0.2,\"line_color\":\"green\",\"line_width\":2,\"x\":{\"field\":\"x\"},\"y\":{\"field\":\"y\"}},\"id\":\"1036\",\"type\":\"Line\"},{\"attributes\":{},\"id\":\"1020\",\"type\":\"WheelZoomTool\"},{\"attributes\":{\"line_alpha\":0.2,\"line_color\":\"blue\",\"line_width\":2,\"x\":{\"field\":\"x\"},\"y\":{\"field\":\"y\"}},\"id\":\"1329\",\"type\":\"Line\"},{\"attributes\":{\"click_policy\":\"hide\",\"coordinates\":null,\"group\":null,\"items\":[{\"id\":\"1063\"},{\"id\":\"1128\"},{\"id\":\"1201\"},{\"id\":\"1282\"},{\"id\":\"1371\"}],\"location\":\"top_left\"},\"id\":\"1062\",\"type\":\"Legend\"},{\"attributes\":{\"end\":0.9205,\"start\":-0.8118},\"id\":\"1419\",\"type\":\"Range1d\"},{\"attributes\":{\"line_alpha\":0.1,\"line_color\":\"blue\",\"line_width\":2,\"x\":{\"field\":\"x\"},\"y\":{\"field\":\"y\"}},\"id\":\"1328\",\"type\":\"Line\"},{\"attributes\":{},\"id\":\"1356\",\"type\":\"UnionRenderers\"},{\"attributes\":{},\"id\":\"1357\",\"type\":\"Selection\"},{\"attributes\":{},\"id\":\"1042\",\"type\":\"BasicTickFormatter\"},{\"attributes\":{},\"id\":\"1428\",\"type\":\"BasicTickFormatter\"},{\"attributes\":{},\"id\":\"1045\",\"type\":\"DatetimeTickFormatter\"},{\"attributes\":{},\"id\":\"1048\",\"type\":\"Selection\"},{\"attributes\":{},\"id\":\"1429\",\"type\":\"AllLabels\"},{\"attributes\":{\"coordinates\":null,\"data_source\":{\"id\":\"1372\"},\"glyph\":{\"id\":\"1373\"},\"group\":null,\"hover_glyph\":null,\"muted_glyph\":{\"id\":\"1375\"},\"nonselection_glyph\":{\"id\":\"1374\"},\"view\":{\"id\":\"1377\"}},\"id\":\"1376\",\"type\":\"GlyphRenderer\"},{\"attributes\":{\"bottom_units\":\"screen\",\"coordinates\":null,\"fill_alpha\":0.5,\"fill_color\":\"lightgrey\",\"group\":null,\"left_units\":\"screen\",\"level\":\"overlay\",\"line_alpha\":1.0,\"line_color\":\"black\",\"line_dash\":[4,4],\"line_width\":2,\"right_units\":\"screen\",\"syncable\":false,\"top_units\":\"screen\"},\"id\":\"1025\",\"type\":\"BoxAnnotation\"},{\"attributes\":{},\"id\":\"1404\",\"type\":\"UnionRenderers\"},{\"attributes\":{\"fill_alpha\":{\"value\":0.2},\"fill_color\":{\"value\":\"blue\"},\"hatch_alpha\":{\"value\":0.2},\"hatch_color\":{\"value\":\"blue\"},\"line_alpha\":{\"value\":0.2},\"line_color\":{\"value\":\"blue\"},\"line_width\":{\"value\":2},\"x\":{\"field\":\"x\"},\"y\":{\"field\":\"y\"}},\"id\":\"1375\",\"type\":\"Circle\"},{\"attributes\":{\"axis_label\":\"Sentiment Percent\",\"coordinates\":null,\"formatter\":{\"id\":\"1428\"},\"group\":null,\"major_label_policy\":{\"id\":\"1429\"},\"ticker\":{\"id\":\"1427\"},\"y_range_name\":\"sentiment\"},\"id\":\"1420\",\"type\":\"LinearAxis\"},{\"attributes\":{\"fill_alpha\":{\"value\":0.1},\"fill_color\":{\"value\":\"blue\"},\"hatch_alpha\":{\"value\":0.1},\"hatch_color\":{\"value\":\"blue\"},\"line_alpha\":{\"value\":0.1},\"line_color\":{\"value\":\"blue\"},\"line_width\":{\"value\":2},\"x\":{\"field\":\"x\"},\"y\":{\"field\":\"y\"}},\"id\":\"1374\",\"type\":\"Circle\"},{\"attributes\":{\"source\":{\"id\":\"1372\"}},\"id\":\"1377\",\"type\":\"CDSView\"},{\"attributes\":{},\"id\":\"1427\",\"type\":\"BasicTicker\"},{\"attributes\":{},\"id\":\"1405\",\"type\":\"Selection\"},{\"attributes\":{},\"id\":\"1043\",\"type\":\"AllLabels\"},{\"attributes\":{},\"id\":\"1047\",\"type\":\"UnionRenderers\"},{\"attributes\":{},\"id\":\"1005\",\"type\":\"DataRange1d\"},{\"attributes\":{},\"id\":\"1046\",\"type\":\"AllLabels\"},{\"attributes\":{\"base\":60,\"mantissas\":[1,2,5,10,15,20,30],\"max_interval\":1800000.0,\"min_interval\":1000.0,\"num_minor_ticks\":0},\"id\":\"1051\",\"type\":\"AdaptiveTicker\"},{\"attributes\":{\"num_minor_ticks\":5,\"tickers\":[{\"id\":\"1050\"},{\"id\":\"1051\"},{\"id\":\"1052\"},{\"id\":\"1053\"},{\"id\":\"1054\"},{\"id\":\"1055\"},{\"id\":\"1056\"},{\"id\":\"1057\"},{\"id\":\"1058\"},{\"id\":\"1059\"},{\"id\":\"1060\"},{\"id\":\"1061\"}]},\"id\":\"1012\",\"type\":\"DatetimeTicker\"},{\"attributes\":{\"axis_label\":\"Date\",\"coordinates\":null,\"formatter\":{\"id\":\"1045\"},\"group\":null,\"major_label_policy\":{\"id\":\"1046\"},\"ticker\":{\"id\":\"1012\"}},\"id\":\"1011\",\"type\":\"DatetimeAxis\"},{\"attributes\":{\"axis\":{\"id\":\"1011\"},\"coordinates\":null,\"group\":null,\"ticker\":null},\"id\":\"1014\",\"type\":\"Grid\"},{\"attributes\":{},\"id\":\"1009\",\"type\":\"LinearScale\"},{\"attributes\":{},\"id\":\"1003\",\"type\":\"DataRange1d\"},{\"attributes\":{},\"id\":\"1007\",\"type\":\"LinearScale\"}],\"root_ids\":[\"1002\"]},\"title\":\"Bokeh Application\",\"version\":\"2.4.2\"}};\n",
       "  const render_items = [{\"docid\":\"d20746b1-e595-476e-a808-54f7c3814200\",\"notebook_comms_target\":\"1466\",\"root_ids\":[\"1002\"],\"roots\":{\"1002\":\"e16be69e-e479-4107-90a7-52873c8ab94f\"}}];\n",
       "  root.Bokeh.embed.embed_items_notebook(docs_json, render_items);\n",
       "\n",
       "  }\n",
       "  if (root.Bokeh !== undefined) {\n",
       "    embed_document(root);\n",
       "  } else {\n",
       "    let attempts = 0;\n",
       "    const timer = setInterval(function(root) {\n",
       "      if (root.Bokeh !== undefined) {\n",
       "        clearInterval(timer);\n",
       "        embed_document(root);\n",
       "      } else {\n",
       "        attempts++;\n",
       "        if (attempts > 100) {\n",
       "          clearInterval(timer);\n",
       "          console.log(\"Bokeh: ERROR: Unable to run BokehJS code because BokehJS library is missing\");\n",
       "        }\n",
       "      }\n",
       "    }, 10, root)\n",
       "  }\n",
       "})(window);"
      ],
      "application/vnd.bokehjs_exec.v0+json": ""
     },
     "metadata": {
      "application/vnd.bokehjs_exec.v0+json": {
       "id": "1002"
      }
     },
     "output_type": "display_data"
    },
    {
     "data": {
      "application/vnd.jupyter.widget-view+json": {
       "model_id": "4baafad13fc6480ab8bdcd6c3a302dc6",
       "version_major": 2,
       "version_minor": 0
      },
      "text/plain": [
       "interactive(children=(Dropdown(description='ticker', index=26, options=('IP', 'PLUG', 'PLTR', 'PATH', 'OI', 'O…"
      ]
     },
     "metadata": {},
     "output_type": "display_data"
    },
    {
     "data": {
      "text/plain": [
       "<function __main__.update(ticker='TSLA')>"
      ]
     },
     "execution_count": 7,
     "metadata": {},
     "output_type": "execute_result"
    }
   ],
   "source": [
    "output_notebook()\n",
    "show(p, notebook_handle=True)\n",
    "interact(update, ticker=all_unique_tickers_with_at_least_one_submissions)"
   ]
  },
  {
   "cell_type": "code",
   "execution_count": null,
   "metadata": {},
   "outputs": [],
   "source": []
  }
 ],
 "metadata": {
  "kernelspec": {
   "display_name": "Python 3 (ipykernel)",
   "language": "python",
   "name": "python3"
  },
  "language_info": {
   "codemirror_mode": {
    "name": "ipython",
    "version": 3
   },
   "file_extension": ".py",
   "mimetype": "text/x-python",
   "name": "python",
   "nbconvert_exporter": "python",
   "pygments_lexer": "ipython3",
   "version": "3.9.5"
  }
 },
 "nbformat": 4,
 "nbformat_minor": 1
}

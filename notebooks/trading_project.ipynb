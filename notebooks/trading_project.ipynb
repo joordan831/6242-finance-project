{
 "cells": [
  {
   "cell_type": "code",
   "execution_count": 1,
   "metadata": {},
   "outputs": [
    {
     "ename": "ModuleNotFoundError",
     "evalue": "No module named 'nltk'",
     "output_type": "error",
     "traceback": [
      "\u001B[1;31m---------------------------------------------------------------------------\u001B[0m",
      "\u001B[1;31mModuleNotFoundError\u001B[0m                       Traceback (most recent call last)",
      "\u001B[1;32m~\\AppData\\Local\\Temp/ipykernel_6424/3292464508.py\u001B[0m in \u001B[0;36m<module>\u001B[1;34m\u001B[0m\n\u001B[1;32m----> 1\u001B[1;33m \u001B[1;32mfrom\u001B[0m \u001B[0mfinal_submission\u001B[0m\u001B[1;33m.\u001B[0m\u001B[0msentiment\u001B[0m \u001B[1;32mimport\u001B[0m \u001B[0mVaderSentiment\u001B[0m\u001B[1;33m\u001B[0m\u001B[1;33m\u001B[0m\u001B[0m\n\u001B[0m\u001B[0;32m      2\u001B[0m \u001B[1;32mfrom\u001B[0m \u001B[0mfinal_submission\u001B[0m\u001B[1;33m.\u001B[0m\u001B[0mmining\u001B[0m \u001B[1;32mimport\u001B[0m \u001B[0mTickersMining\u001B[0m\u001B[1;33m\u001B[0m\u001B[1;33m\u001B[0m\u001B[0m\n\u001B[0;32m      3\u001B[0m \u001B[1;32mfrom\u001B[0m \u001B[0mfinal_submission\u001B[0m\u001B[1;33m.\u001B[0m\u001B[0mutils\u001B[0m \u001B[1;32mimport\u001B[0m \u001B[0msave_to_csv\u001B[0m\u001B[1;33m\u001B[0m\u001B[1;33m\u001B[0m\u001B[0m\n\u001B[0;32m      4\u001B[0m \u001B[1;32mimport\u001B[0m \u001B[0mpandas\u001B[0m \u001B[1;32mas\u001B[0m \u001B[0mpd\u001B[0m\u001B[1;33m\u001B[0m\u001B[1;33m\u001B[0m\u001B[0m\n",
      "\u001B[1;32m~\\Documents\\GATechOSMA\\CSE6242 Data & Visual Analysis\\Project\\6242-finance-project\\final_submission\\sentiment.py\u001B[0m in \u001B[0;36m<module>\u001B[1;34m\u001B[0m\n\u001B[1;32m----> 1\u001B[1;33m \u001B[1;32mfrom\u001B[0m \u001B[0mnltk\u001B[0m\u001B[1;33m.\u001B[0m\u001B[0msentiment\u001B[0m \u001B[1;32mimport\u001B[0m \u001B[0mSentimentIntensityAnalyzer\u001B[0m\u001B[1;33m\u001B[0m\u001B[1;33m\u001B[0m\u001B[0m\n\u001B[0m\u001B[0;32m      2\u001B[0m \u001B[1;32mimport\u001B[0m \u001B[0mpandas\u001B[0m \u001B[1;32mas\u001B[0m \u001B[0mpd\u001B[0m\u001B[1;33m\u001B[0m\u001B[1;33m\u001B[0m\u001B[0m\n\u001B[0;32m      3\u001B[0m \u001B[1;33m\u001B[0m\u001B[0m\n\u001B[0;32m      4\u001B[0m \u001B[1;33m\u001B[0m\u001B[0m\n\u001B[0;32m      5\u001B[0m \u001B[1;32mclass\u001B[0m \u001B[0mVaderSentiment\u001B[0m\u001B[1;33m:\u001B[0m\u001B[1;33m\u001B[0m\u001B[1;33m\u001B[0m\u001B[0m\n",
      "\u001B[1;31mModuleNotFoundError\u001B[0m: No module named 'nltk'"
     ]
    }
   ],
   "source": [
    "from final_submission.sentiment import VaderSentiment\n",
    "from final_submission.mining import TickersMining\n",
    "from final_submission.utils import save_to_csv\n",
    "import pandas as pd"
   ]
  },
  {
   "cell_type": "markdown",
   "metadata": {},
   "source": [
    "# Scrape Reddit"
   ]
  },
  {
   "cell_type": "code",
   "execution_count": 2,
   "metadata": {},
   "outputs": [],
   "source": []
  },
  {
   "cell_type": "code",
   "execution_count": null,
   "outputs": [],
   "source": [],
   "metadata": {
    "collapsed": false,
    "pycharm": {
     "name": "#%%\n"
    }
   }
  },
  {
   "cell_type": "code",
   "execution_count": 10,
   "metadata": {},
   "outputs": [],
   "source": []
  },
  {
   "cell_type": "code",
   "execution_count": 9,
   "metadata": {},
   "outputs": [],
   "source": []
  },
  {
   "cell_type": "markdown",
   "metadata": {},
   "source": [
    "# Sentiment"
   ]
  },
  {
   "cell_type": "code",
   "execution_count": 6,
   "metadata": {},
   "outputs": [
    {
     "name": "stderr",
     "output_type": "stream",
     "text": [
      "[nltk_data] Downloading package vader_lexicon to\n",
      "[nltk_data]     /Users/mohtadi/nltk_data...\n",
      "[nltk_data]   Package vader_lexicon is already up-to-date!\n"
     ]
    }
   ],
   "source": [
    "vader = VaderSentiment()"
   ]
  },
  {
   "cell_type": "code",
   "execution_count": 7,
   "metadata": {},
   "outputs": [],
   "source": [
    "df_sentiment_data = vader.get_sentiment(filename='output/text_data.csv')"
   ]
  },
  {
   "cell_type": "code",
   "execution_count": 11,
   "metadata": {},
   "outputs": [
    {
     "data": {
      "text/html": [
       "<div>\n",
       "<style scoped>\n",
       "    .dataframe tbody tr th:only-of-type {\n",
       "        vertical-align: middle;\n",
       "    }\n",
       "\n",
       "    .dataframe tbody tr th {\n",
       "        vertical-align: top;\n",
       "    }\n",
       "\n",
       "    .dataframe thead th {\n",
       "        text-align: right;\n",
       "    }\n",
       "</style>\n",
       "<table border=\"1\" class=\"dataframe\">\n",
       "  <thead>\n",
       "    <tr style=\"text-align: right;\">\n",
       "      <th></th>\n",
       "      <th>id</th>\n",
       "      <th>type</th>\n",
       "      <th>negative</th>\n",
       "      <th>neutral</th>\n",
       "      <th>positive</th>\n",
       "      <th>compound</th>\n",
       "    </tr>\n",
       "  </thead>\n",
       "  <tbody>\n",
       "    <tr>\n",
       "      <th>0</th>\n",
       "      <td>qlo4ad</td>\n",
       "      <td>title</td>\n",
       "      <td>0.000</td>\n",
       "      <td>1.000</td>\n",
       "      <td>0.000</td>\n",
       "      <td>0.0000</td>\n",
       "    </tr>\n",
       "    <tr>\n",
       "      <th>1</th>\n",
       "      <td>qlo4ad</td>\n",
       "      <td>submission</td>\n",
       "      <td>0.041</td>\n",
       "      <td>0.865</td>\n",
       "      <td>0.093</td>\n",
       "      <td>0.7186</td>\n",
       "    </tr>\n",
       "    <tr>\n",
       "      <th>2</th>\n",
       "      <td>hj47g0f</td>\n",
       "      <td>comment</td>\n",
       "      <td>0.082</td>\n",
       "      <td>0.918</td>\n",
       "      <td>0.000</td>\n",
       "      <td>-0.3612</td>\n",
       "    </tr>\n",
       "    <tr>\n",
       "      <th>3</th>\n",
       "      <td>hj48umn</td>\n",
       "      <td>comment</td>\n",
       "      <td>0.000</td>\n",
       "      <td>0.794</td>\n",
       "      <td>0.206</td>\n",
       "      <td>0.0772</td>\n",
       "    </tr>\n",
       "    <tr>\n",
       "      <th>4</th>\n",
       "      <td>hj47wjv</td>\n",
       "      <td>comment</td>\n",
       "      <td>0.137</td>\n",
       "      <td>0.863</td>\n",
       "      <td>0.000</td>\n",
       "      <td>-0.1513</td>\n",
       "    </tr>\n",
       "    <tr>\n",
       "      <th>5</th>\n",
       "      <td>hj49h6n</td>\n",
       "      <td>comment</td>\n",
       "      <td>0.000</td>\n",
       "      <td>0.128</td>\n",
       "      <td>0.872</td>\n",
       "      <td>0.7783</td>\n",
       "    </tr>\n",
       "    <tr>\n",
       "      <th>6</th>\n",
       "      <td>qlnoud</td>\n",
       "      <td>title</td>\n",
       "      <td>0.000</td>\n",
       "      <td>1.000</td>\n",
       "      <td>0.000</td>\n",
       "      <td>0.0000</td>\n",
       "    </tr>\n",
       "    <tr>\n",
       "      <th>7</th>\n",
       "      <td>qlnoud</td>\n",
       "      <td>submission</td>\n",
       "      <td>0.029</td>\n",
       "      <td>0.971</td>\n",
       "      <td>0.000</td>\n",
       "      <td>-0.6553</td>\n",
       "    </tr>\n",
       "    <tr>\n",
       "      <th>8</th>\n",
       "      <td>hj44wbm</td>\n",
       "      <td>comment</td>\n",
       "      <td>0.082</td>\n",
       "      <td>0.918</td>\n",
       "      <td>0.000</td>\n",
       "      <td>-0.3612</td>\n",
       "    </tr>\n",
       "    <tr>\n",
       "      <th>9</th>\n",
       "      <td>hj44zn9</td>\n",
       "      <td>comment</td>\n",
       "      <td>0.000</td>\n",
       "      <td>0.590</td>\n",
       "      <td>0.410</td>\n",
       "      <td>0.4168</td>\n",
       "    </tr>\n",
       "  </tbody>\n",
       "</table>\n",
       "</div>"
      ],
      "text/plain": [
       "        id        type  negative  neutral  positive  compound\n",
       "0   qlo4ad       title     0.000    1.000     0.000    0.0000\n",
       "1   qlo4ad  submission     0.041    0.865     0.093    0.7186\n",
       "2  hj47g0f     comment     0.082    0.918     0.000   -0.3612\n",
       "3  hj48umn     comment     0.000    0.794     0.206    0.0772\n",
       "4  hj47wjv     comment     0.137    0.863     0.000   -0.1513\n",
       "5  hj49h6n     comment     0.000    0.128     0.872    0.7783\n",
       "6   qlnoud       title     0.000    1.000     0.000    0.0000\n",
       "7   qlnoud  submission     0.029    0.971     0.000   -0.6553\n",
       "8  hj44wbm     comment     0.082    0.918     0.000   -0.3612\n",
       "9  hj44zn9     comment     0.000    0.590     0.410    0.4168"
      ]
     },
     "execution_count": 11,
     "metadata": {},
     "output_type": "execute_result"
    }
   ],
   "source": [
    "df_sentiment_data.head(10)"
   ]
  },
  {
   "cell_type": "markdown",
   "metadata": {},
   "source": [
    "# Author Data"
   ]
  },
  {
   "cell_type": "code",
   "execution_count": 12,
   "metadata": {},
   "outputs": [
    {
     "data": {
      "text/html": [
       "<div>\n",
       "<style scoped>\n",
       "    .dataframe tbody tr th:only-of-type {\n",
       "        vertical-align: middle;\n",
       "    }\n",
       "\n",
       "    .dataframe tbody tr th {\n",
       "        vertical-align: top;\n",
       "    }\n",
       "\n",
       "    .dataframe thead th {\n",
       "        text-align: right;\n",
       "    }\n",
       "</style>\n",
       "<table border=\"1\" class=\"dataframe\">\n",
       "  <thead>\n",
       "    <tr style=\"text-align: right;\">\n",
       "      <th></th>\n",
       "      <th>author_id</th>\n",
       "      <th>name</th>\n",
       "      <th>is_gold</th>\n",
       "      <th>comment_karma</th>\n",
       "      <th>link_karma</th>\n",
       "      <th>awarder_karma</th>\n",
       "      <th>awardee_karma</th>\n",
       "      <th>total_karma</th>\n",
       "      <th>created_utc</th>\n",
       "    </tr>\n",
       "  </thead>\n",
       "  <tbody>\n",
       "    <tr>\n",
       "      <th>0</th>\n",
       "      <td>3dlu6wzb</td>\n",
       "      <td>NikeExchange</td>\n",
       "      <td>False</td>\n",
       "      <td>13624</td>\n",
       "      <td>35</td>\n",
       "      <td>301</td>\n",
       "      <td>170</td>\n",
       "      <td>14130</td>\n",
       "      <td>2019-03-09 14:37:39</td>\n",
       "    </tr>\n",
       "    <tr>\n",
       "      <th>1</th>\n",
       "      <td>6hf2z55l</td>\n",
       "      <td>VisualMod</td>\n",
       "      <td>True</td>\n",
       "      <td>44006</td>\n",
       "      <td>15282</td>\n",
       "      <td>57055</td>\n",
       "      <td>32268</td>\n",
       "      <td>148611</td>\n",
       "      <td>2020-05-15 04:42:11</td>\n",
       "    </tr>\n",
       "    <tr>\n",
       "      <th>2</th>\n",
       "      <td>cswhf</td>\n",
       "      <td>asmit10</td>\n",
       "      <td>False</td>\n",
       "      <td>645</td>\n",
       "      <td>2575</td>\n",
       "      <td>0</td>\n",
       "      <td>21</td>\n",
       "      <td>3241</td>\n",
       "      <td>2013-08-18 08:03:38</td>\n",
       "    </tr>\n",
       "    <tr>\n",
       "      <th>3</th>\n",
       "      <td>4p8czndn</td>\n",
       "      <td>Mysterious----</td>\n",
       "      <td>False</td>\n",
       "      <td>11845</td>\n",
       "      <td>6033</td>\n",
       "      <td>56</td>\n",
       "      <td>3102</td>\n",
       "      <td>21036</td>\n",
       "      <td>2019-09-30 13:01:52</td>\n",
       "    </tr>\n",
       "    <tr>\n",
       "      <th>4</th>\n",
       "      <td>6lmjucr2</td>\n",
       "      <td>CM_6T2LV</td>\n",
       "      <td>False</td>\n",
       "      <td>398</td>\n",
       "      <td>1</td>\n",
       "      <td>0</td>\n",
       "      <td>41</td>\n",
       "      <td>440</td>\n",
       "      <td>2021-01-01 05:07:54</td>\n",
       "    </tr>\n",
       "  </tbody>\n",
       "</table>\n",
       "</div>"
      ],
      "text/plain": [
       "  author_id            name  is_gold  comment_karma  link_karma  \\\n",
       "0  3dlu6wzb    NikeExchange    False          13624          35   \n",
       "1  6hf2z55l       VisualMod     True          44006       15282   \n",
       "2     cswhf         asmit10    False            645        2575   \n",
       "3  4p8czndn  Mysterious----    False          11845        6033   \n",
       "4  6lmjucr2        CM_6T2LV    False            398           1   \n",
       "\n",
       "   awarder_karma  awardee_karma  total_karma          created_utc  \n",
       "0            301            170        14130  2019-03-09 14:37:39  \n",
       "1          57055          32268       148611  2020-05-15 04:42:11  \n",
       "2              0             21         3241  2013-08-18 08:03:38  \n",
       "3             56           3102        21036  2019-09-30 13:01:52  \n",
       "4              0             41          440  2021-01-01 05:07:54  "
      ]
     },
     "execution_count": 12,
     "metadata": {},
     "output_type": "execute_result"
    }
   ],
   "source": [
    "authors = pd.read_csv('output/author_data.csv')\n",
    "authors.head()"
   ]
  },
  {
   "cell_type": "markdown",
   "metadata": {},
   "source": [
    "# Get Stock Data"
   ]
  },
  {
   "cell_type": "code",
   "execution_count": 13,
   "metadata": {},
   "outputs": [],
   "source": [
    "nasdaq_scraper = NasdaqScraper()\n",
    "stock_data = nasdaq_scraper.download_stock_data()"
   ]
  },
  {
   "cell_type": "code",
   "execution_count": 14,
   "metadata": {},
   "outputs": [],
   "source": [
    "save_to_csv(stock_data, 'w', 'output/stock_data.csv')"
   ]
  },
  {
   "cell_type": "code",
   "execution_count": 15,
   "metadata": {},
   "outputs": [
    {
     "data": {
      "text/html": [
       "<div>\n",
       "<style scoped>\n",
       "    .dataframe tbody tr th:only-of-type {\n",
       "        vertical-align: middle;\n",
       "    }\n",
       "\n",
       "    .dataframe tbody tr th {\n",
       "        vertical-align: top;\n",
       "    }\n",
       "\n",
       "    .dataframe thead th {\n",
       "        text-align: right;\n",
       "    }\n",
       "</style>\n",
       "<table border=\"1\" class=\"dataframe\">\n",
       "  <thead>\n",
       "    <tr style=\"text-align: right;\">\n",
       "      <th></th>\n",
       "      <th>symbol</th>\n",
       "      <th>name</th>\n",
       "      <th>lastsale</th>\n",
       "      <th>netchange</th>\n",
       "      <th>pctchange</th>\n",
       "      <th>volume</th>\n",
       "      <th>marketCap</th>\n",
       "      <th>country</th>\n",
       "      <th>ipoyear</th>\n",
       "      <th>industry</th>\n",
       "      <th>sector</th>\n",
       "      <th>url</th>\n",
       "    </tr>\n",
       "  </thead>\n",
       "  <tbody>\n",
       "    <tr>\n",
       "      <th>0</th>\n",
       "      <td>A</td>\n",
       "      <td>Agilent Technologies Inc. Common Stock</td>\n",
       "      <td>$157.85</td>\n",
       "      <td>0.7900</td>\n",
       "      <td>0.503%</td>\n",
       "      <td>1714215</td>\n",
       "      <td>4.778477e+10</td>\n",
       "      <td>United States</td>\n",
       "      <td>1999.0</td>\n",
       "      <td>Electrical Products</td>\n",
       "      <td>Capital Goods</td>\n",
       "      <td>/market-activity/stocks/a</td>\n",
       "    </tr>\n",
       "    <tr>\n",
       "      <th>1</th>\n",
       "      <td>AA</td>\n",
       "      <td>Alcoa Corporation Common Stock</td>\n",
       "      <td>$47.08</td>\n",
       "      <td>0.3500</td>\n",
       "      <td>0.749%</td>\n",
       "      <td>10035264</td>\n",
       "      <td>8.808816e+09</td>\n",
       "      <td>NaN</td>\n",
       "      <td>2016.0</td>\n",
       "      <td>Aluminum</td>\n",
       "      <td>Basic Industries</td>\n",
       "      <td>/market-activity/stocks/aa</td>\n",
       "    </tr>\n",
       "    <tr>\n",
       "      <th>2</th>\n",
       "      <td>AAC</td>\n",
       "      <td>Ares Acquisition Corporation Class A Ordinary ...</td>\n",
       "      <td>$9.83</td>\n",
       "      <td>0.0000</td>\n",
       "      <td>0.00%</td>\n",
       "      <td>62726</td>\n",
       "      <td>1.228750e+09</td>\n",
       "      <td>NaN</td>\n",
       "      <td>2021.0</td>\n",
       "      <td>Business Services</td>\n",
       "      <td>Finance</td>\n",
       "      <td>/market-activity/stocks/aac</td>\n",
       "    </tr>\n",
       "    <tr>\n",
       "      <th>3</th>\n",
       "      <td>AACG</td>\n",
       "      <td>ATA Creativity Global American Depositary Shares</td>\n",
       "      <td>$2.3696</td>\n",
       "      <td>0.0846</td>\n",
       "      <td>3.702%</td>\n",
       "      <td>20493</td>\n",
       "      <td>7.435075e+07</td>\n",
       "      <td>China</td>\n",
       "      <td>NaN</td>\n",
       "      <td>Service to the Health Industry</td>\n",
       "      <td>Miscellaneous</td>\n",
       "      <td>/market-activity/stocks/aacg</td>\n",
       "    </tr>\n",
       "    <tr>\n",
       "      <th>4</th>\n",
       "      <td>AACIU</td>\n",
       "      <td>Armada Acquisition Corp. I Unit</td>\n",
       "      <td>$9.88</td>\n",
       "      <td>-0.0200</td>\n",
       "      <td>-0.202%</td>\n",
       "      <td>137133</td>\n",
       "      <td>0.000000e+00</td>\n",
       "      <td>United States</td>\n",
       "      <td>2021.0</td>\n",
       "      <td>NaN</td>\n",
       "      <td>NaN</td>\n",
       "      <td>/market-activity/stocks/aaciu</td>\n",
       "    </tr>\n",
       "  </tbody>\n",
       "</table>\n",
       "</div>"
      ],
      "text/plain": [
       "  symbol                                               name lastsale  \\\n",
       "0      A             Agilent Technologies Inc. Common Stock  $157.85   \n",
       "1     AA                    Alcoa Corporation Common Stock    $47.08   \n",
       "2    AAC  Ares Acquisition Corporation Class A Ordinary ...    $9.83   \n",
       "3   AACG   ATA Creativity Global American Depositary Shares  $2.3696   \n",
       "4  AACIU                    Armada Acquisition Corp. I Unit    $9.88   \n",
       "\n",
       "   netchange pctchange    volume     marketCap        country  ipoyear  \\\n",
       "0     0.7900    0.503%   1714215  4.778477e+10  United States   1999.0   \n",
       "1     0.3500    0.749%  10035264  8.808816e+09            NaN   2016.0   \n",
       "2     0.0000     0.00%     62726  1.228750e+09            NaN   2021.0   \n",
       "3     0.0846    3.702%     20493  7.435075e+07          China      NaN   \n",
       "4    -0.0200   -0.202%    137133  0.000000e+00  United States   2021.0   \n",
       "\n",
       "                         industry            sector  \\\n",
       "0             Electrical Products     Capital Goods   \n",
       "1                        Aluminum  Basic Industries   \n",
       "2               Business Services           Finance   \n",
       "3  Service to the Health Industry     Miscellaneous   \n",
       "4                             NaN               NaN   \n",
       "\n",
       "                             url  \n",
       "0      /market-activity/stocks/a  \n",
       "1     /market-activity/stocks/aa  \n",
       "2    /market-activity/stocks/aac  \n",
       "3   /market-activity/stocks/aacg  \n",
       "4  /market-activity/stocks/aaciu  "
      ]
     },
     "execution_count": 15,
     "metadata": {},
     "output_type": "execute_result"
    }
   ],
   "source": [
    "stock = pd.read_csv('output/stock_data.csv')\n",
    "stock.head()"
   ]
  },
  {
   "cell_type": "markdown",
   "metadata": {},
   "source": [
    "# Tickers"
   ]
  },
  {
   "cell_type": "code",
   "execution_count": 16,
   "metadata": {},
   "outputs": [],
   "source": [
    "miner = TickersMining()\n",
    "df_ticker_data = miner.get_tickers(text_data='output/text_data.csv')\n"
   ]
  },
  {
   "cell_type": "code",
   "execution_count": 17,
   "metadata": {},
   "outputs": [
    {
     "data": {
      "text/html": [
       "<div>\n",
       "<style scoped>\n",
       "    .dataframe tbody tr th:only-of-type {\n",
       "        vertical-align: middle;\n",
       "    }\n",
       "\n",
       "    .dataframe tbody tr th {\n",
       "        vertical-align: top;\n",
       "    }\n",
       "\n",
       "    .dataframe thead th {\n",
       "        text-align: right;\n",
       "    }\n",
       "</style>\n",
       "<table border=\"1\" class=\"dataframe\">\n",
       "  <thead>\n",
       "    <tr style=\"text-align: right;\">\n",
       "      <th></th>\n",
       "      <th>id</th>\n",
       "      <th>type</th>\n",
       "      <th>tickers</th>\n",
       "    </tr>\n",
       "  </thead>\n",
       "  <tbody>\n",
       "    <tr>\n",
       "      <th>0</th>\n",
       "      <td>qlo4ad</td>\n",
       "      <td>title</td>\n",
       "      <td></td>\n",
       "    </tr>\n",
       "    <tr>\n",
       "      <th>1</th>\n",
       "      <td>qlo4ad</td>\n",
       "      <td>submission</td>\n",
       "      <td>J</td>\n",
       "    </tr>\n",
       "    <tr>\n",
       "      <th>2</th>\n",
       "      <td>hj47g0f</td>\n",
       "      <td>comment</td>\n",
       "      <td>DD</td>\n",
       "    </tr>\n",
       "    <tr>\n",
       "      <th>3</th>\n",
       "      <td>hj48umn</td>\n",
       "      <td>comment</td>\n",
       "      <td></td>\n",
       "    </tr>\n",
       "    <tr>\n",
       "      <th>4</th>\n",
       "      <td>hj47wjv</td>\n",
       "      <td>comment</td>\n",
       "      <td></td>\n",
       "    </tr>\n",
       "  </tbody>\n",
       "</table>\n",
       "</div>"
      ],
      "text/plain": [
       "        id        type tickers\n",
       "0   qlo4ad       title        \n",
       "1   qlo4ad  submission       J\n",
       "2  hj47g0f     comment      DD\n",
       "3  hj48umn     comment        \n",
       "4  hj47wjv     comment        "
      ]
     },
     "execution_count": 17,
     "metadata": {},
     "output_type": "execute_result"
    }
   ],
   "source": [
    "df_ticker_data.head()"
   ]
  },
  {
   "cell_type": "markdown",
   "metadata": {},
   "source": [
    "# Sentiment and Tickers"
   ]
  },
  {
   "cell_type": "code",
   "execution_count": 19,
   "metadata": {},
   "outputs": [],
   "source": [
    "df_sentiment_data['tickers'] = df_ticker_data['tickers']\n",
    "\n",
    "df_sentiment_data.to_csv('output/sentiment_data.csv')"
   ]
  },
  {
   "cell_type": "code",
   "execution_count": null,
   "metadata": {},
   "outputs": [],
   "source": []
  },
  {
   "cell_type": "code",
   "execution_count": null,
   "metadata": {},
   "outputs": [],
   "source": []
  },
  {
   "cell_type": "code",
   "execution_count": null,
   "metadata": {},
   "outputs": [],
   "source": []
  }
 ],
 "metadata": {
  "kernelspec": {
   "display_name": "Python 3 (ipykernel)",
   "language": "python",
   "name": "python3"
  },
  "language_info": {
   "codemirror_mode": {
    "name": "ipython",
    "version": 3
   },
   "file_extension": ".py",
   "mimetype": "text/x-python",
   "name": "python",
   "nbconvert_exporter": "python",
   "pygments_lexer": "ipython3",
   "version": "3.7.7"
  }
 },
 "nbformat": 4,
 "nbformat_minor": 4
}